{
  "cells": [
    {
      "cell_type": "code",
      "execution_count": 1,
      "metadata": {
        "colab": {
          "base_uri": "https://localhost:8080/"
        },
        "id": "YU2fLFdUO9B4",
        "outputId": "805fae7b-af30-4f61-bc6f-5f078c123b08"
      },
      "outputs": [
        {
          "name": "stdout",
          "output_type": "stream",
          "text": [
            "Requirement already satisfied: langgraph in /usr/local/lib/python3.11/dist-packages (0.4.7)\n",
            "Requirement already satisfied: langchain-core>=0.1 in /usr/local/lib/python3.11/dist-packages (from langgraph) (0.3.59)\n",
            "Requirement already satisfied: langgraph-checkpoint>=2.0.26 in /usr/local/lib/python3.11/dist-packages (from langgraph) (2.0.26)\n",
            "Requirement already satisfied: langgraph-prebuilt>=0.2.0 in /usr/local/lib/python3.11/dist-packages (from langgraph) (0.2.1)\n",
            "Requirement already satisfied: langgraph-sdk>=0.1.42 in /usr/local/lib/python3.11/dist-packages (from langgraph) (0.1.70)\n",
            "Requirement already satisfied: pydantic>=2.7.4 in /usr/local/lib/python3.11/dist-packages (from langgraph) (2.11.4)\n",
            "Requirement already satisfied: xxhash>=3.5.0 in /usr/local/lib/python3.11/dist-packages (from langgraph) (3.5.0)\n",
            "Requirement already satisfied: langsmith<0.4,>=0.1.125 in /usr/local/lib/python3.11/dist-packages (from langchain-core>=0.1->langgraph) (0.3.42)\n",
            "Requirement already satisfied: tenacity!=8.4.0,<10.0.0,>=8.1.0 in /usr/local/lib/python3.11/dist-packages (from langchain-core>=0.1->langgraph) (9.1.2)\n",
            "Requirement already satisfied: jsonpatch<2.0,>=1.33 in /usr/local/lib/python3.11/dist-packages (from langchain-core>=0.1->langgraph) (1.33)\n",
            "Requirement already satisfied: PyYAML>=5.3 in /usr/local/lib/python3.11/dist-packages (from langchain-core>=0.1->langgraph) (6.0.2)\n",
            "Requirement already satisfied: packaging<25,>=23.2 in /usr/local/lib/python3.11/dist-packages (from langchain-core>=0.1->langgraph) (24.2)\n",
            "Requirement already satisfied: typing-extensions>=4.7 in /usr/local/lib/python3.11/dist-packages (from langchain-core>=0.1->langgraph) (4.13.2)\n",
            "Requirement already satisfied: ormsgpack<2.0.0,>=1.8.0 in /usr/local/lib/python3.11/dist-packages (from langgraph-checkpoint>=2.0.26->langgraph) (1.10.0)\n",
            "Requirement already satisfied: httpx>=0.25.2 in /usr/local/lib/python3.11/dist-packages (from langgraph-sdk>=0.1.42->langgraph) (0.28.1)\n",
            "Requirement already satisfied: orjson>=3.10.1 in /usr/local/lib/python3.11/dist-packages (from langgraph-sdk>=0.1.42->langgraph) (3.10.18)\n",
            "Requirement already satisfied: annotated-types>=0.6.0 in /usr/local/lib/python3.11/dist-packages (from pydantic>=2.7.4->langgraph) (0.7.0)\n",
            "Requirement already satisfied: pydantic-core==2.33.2 in /usr/local/lib/python3.11/dist-packages (from pydantic>=2.7.4->langgraph) (2.33.2)\n",
            "Requirement already satisfied: typing-inspection>=0.4.0 in /usr/local/lib/python3.11/dist-packages (from pydantic>=2.7.4->langgraph) (0.4.0)\n",
            "Requirement already satisfied: anyio in /usr/local/lib/python3.11/dist-packages (from httpx>=0.25.2->langgraph-sdk>=0.1.42->langgraph) (4.9.0)\n",
            "Requirement already satisfied: certifi in /usr/local/lib/python3.11/dist-packages (from httpx>=0.25.2->langgraph-sdk>=0.1.42->langgraph) (2025.4.26)\n",
            "Requirement already satisfied: httpcore==1.* in /usr/local/lib/python3.11/dist-packages (from httpx>=0.25.2->langgraph-sdk>=0.1.42->langgraph) (1.0.9)\n",
            "Requirement already satisfied: idna in /usr/local/lib/python3.11/dist-packages (from httpx>=0.25.2->langgraph-sdk>=0.1.42->langgraph) (3.10)\n",
            "Requirement already satisfied: h11>=0.16 in /usr/local/lib/python3.11/dist-packages (from httpcore==1.*->httpx>=0.25.2->langgraph-sdk>=0.1.42->langgraph) (0.16.0)\n",
            "Requirement already satisfied: jsonpointer>=1.9 in /usr/local/lib/python3.11/dist-packages (from jsonpatch<2.0,>=1.33->langchain-core>=0.1->langgraph) (3.0.0)\n",
            "Requirement already satisfied: requests<3,>=2 in /usr/local/lib/python3.11/dist-packages (from langsmith<0.4,>=0.1.125->langchain-core>=0.1->langgraph) (2.32.3)\n",
            "Requirement already satisfied: requests-toolbelt<2.0.0,>=1.0.0 in /usr/local/lib/python3.11/dist-packages (from langsmith<0.4,>=0.1.125->langchain-core>=0.1->langgraph) (1.0.0)\n",
            "Requirement already satisfied: zstandard<0.24.0,>=0.23.0 in /usr/local/lib/python3.11/dist-packages (from langsmith<0.4,>=0.1.125->langchain-core>=0.1->langgraph) (0.23.0)\n",
            "Requirement already satisfied: charset-normalizer<4,>=2 in /usr/local/lib/python3.11/dist-packages (from requests<3,>=2->langsmith<0.4,>=0.1.125->langchain-core>=0.1->langgraph) (3.4.2)\n",
            "Requirement already satisfied: urllib3<3,>=1.21.1 in /usr/local/lib/python3.11/dist-packages (from requests<3,>=2->langsmith<0.4,>=0.1.125->langchain-core>=0.1->langgraph) (2.4.0)\n",
            "Requirement already satisfied: sniffio>=1.1 in /usr/local/lib/python3.11/dist-packages (from anyio->httpx>=0.25.2->langgraph-sdk>=0.1.42->langgraph) (1.3.1)\n"
          ]
        }
      ],
      "source": [
        "pip install -U langgraph"
      ]
    },
    {
      "cell_type": "code",
      "execution_count": 2,
      "metadata": {
        "colab": {
          "base_uri": "https://localhost:8080/"
        },
        "id": "fPj7dwN_PSc-",
        "outputId": "d4d0f919-195b-43ab-f472-34a89e75321c"
      },
      "outputs": [
        {
          "name": "stdout",
          "output_type": "stream",
          "text": [
            "Requirement already satisfied: langchain in /usr/local/lib/python3.11/dist-packages (0.3.25)\n",
            "Requirement already satisfied: langgraph in /usr/local/lib/python3.11/dist-packages (0.4.7)\n",
            "Requirement already satisfied: openai in /usr/local/lib/python3.11/dist-packages (1.78.1)\n",
            "Requirement already satisfied: networkx in /usr/local/lib/python3.11/dist-packages (3.4.2)\n",
            "Requirement already satisfied: matplotlib in /usr/local/lib/python3.11/dist-packages (3.10.0)\n",
            "Requirement already satisfied: langchain-core<1.0.0,>=0.3.58 in /usr/local/lib/python3.11/dist-packages (from langchain) (0.3.59)\n",
            "Requirement already satisfied: langchain-text-splitters<1.0.0,>=0.3.8 in /usr/local/lib/python3.11/dist-packages (from langchain) (0.3.8)\n",
            "Requirement already satisfied: langsmith<0.4,>=0.1.17 in /usr/local/lib/python3.11/dist-packages (from langchain) (0.3.42)\n",
            "Requirement already satisfied: pydantic<3.0.0,>=2.7.4 in /usr/local/lib/python3.11/dist-packages (from langchain) (2.11.4)\n",
            "Requirement already satisfied: SQLAlchemy<3,>=1.4 in /usr/local/lib/python3.11/dist-packages (from langchain) (2.0.40)\n",
            "Requirement already satisfied: requests<3,>=2 in /usr/local/lib/python3.11/dist-packages (from langchain) (2.32.3)\n",
            "Requirement already satisfied: PyYAML>=5.3 in /usr/local/lib/python3.11/dist-packages (from langchain) (6.0.2)\n",
            "Requirement already satisfied: langgraph-checkpoint>=2.0.26 in /usr/local/lib/python3.11/dist-packages (from langgraph) (2.0.26)\n",
            "Requirement already satisfied: langgraph-prebuilt>=0.2.0 in /usr/local/lib/python3.11/dist-packages (from langgraph) (0.2.1)\n",
            "Requirement already satisfied: langgraph-sdk>=0.1.42 in /usr/local/lib/python3.11/dist-packages (from langgraph) (0.1.70)\n",
            "Requirement already satisfied: xxhash>=3.5.0 in /usr/local/lib/python3.11/dist-packages (from langgraph) (3.5.0)\n",
            "Requirement already satisfied: anyio<5,>=3.5.0 in /usr/local/lib/python3.11/dist-packages (from openai) (4.9.0)\n",
            "Requirement already satisfied: distro<2,>=1.7.0 in /usr/local/lib/python3.11/dist-packages (from openai) (1.9.0)\n",
            "Requirement already satisfied: httpx<1,>=0.23.0 in /usr/local/lib/python3.11/dist-packages (from openai) (0.28.1)\n",
            "Requirement already satisfied: jiter<1,>=0.4.0 in /usr/local/lib/python3.11/dist-packages (from openai) (0.9.0)\n",
            "Requirement already satisfied: sniffio in /usr/local/lib/python3.11/dist-packages (from openai) (1.3.1)\n",
            "Requirement already satisfied: tqdm>4 in /usr/local/lib/python3.11/dist-packages (from openai) (4.67.1)\n",
            "Requirement already satisfied: typing-extensions<5,>=4.11 in /usr/local/lib/python3.11/dist-packages (from openai) (4.13.2)\n",
            "Requirement already satisfied: contourpy>=1.0.1 in /usr/local/lib/python3.11/dist-packages (from matplotlib) (1.3.2)\n",
            "Requirement already satisfied: cycler>=0.10 in /usr/local/lib/python3.11/dist-packages (from matplotlib) (0.12.1)\n",
            "Requirement already satisfied: fonttools>=4.22.0 in /usr/local/lib/python3.11/dist-packages (from matplotlib) (4.58.0)\n",
            "Requirement already satisfied: kiwisolver>=1.3.1 in /usr/local/lib/python3.11/dist-packages (from matplotlib) (1.4.8)\n",
            "Requirement already satisfied: numpy>=1.23 in /usr/local/lib/python3.11/dist-packages (from matplotlib) (2.0.2)\n",
            "Requirement already satisfied: packaging>=20.0 in /usr/local/lib/python3.11/dist-packages (from matplotlib) (24.2)\n",
            "Requirement already satisfied: pillow>=8 in /usr/local/lib/python3.11/dist-packages (from matplotlib) (11.2.1)\n",
            "Requirement already satisfied: pyparsing>=2.3.1 in /usr/local/lib/python3.11/dist-packages (from matplotlib) (3.2.3)\n",
            "Requirement already satisfied: python-dateutil>=2.7 in /usr/local/lib/python3.11/dist-packages (from matplotlib) (2.9.0.post0)\n",
            "Requirement already satisfied: idna>=2.8 in /usr/local/lib/python3.11/dist-packages (from anyio<5,>=3.5.0->openai) (3.10)\n",
            "Requirement already satisfied: certifi in /usr/local/lib/python3.11/dist-packages (from httpx<1,>=0.23.0->openai) (2025.4.26)\n",
            "Requirement already satisfied: httpcore==1.* in /usr/local/lib/python3.11/dist-packages (from httpx<1,>=0.23.0->openai) (1.0.9)\n",
            "Requirement already satisfied: h11>=0.16 in /usr/local/lib/python3.11/dist-packages (from httpcore==1.*->httpx<1,>=0.23.0->openai) (0.16.0)\n",
            "Requirement already satisfied: tenacity!=8.4.0,<10.0.0,>=8.1.0 in /usr/local/lib/python3.11/dist-packages (from langchain-core<1.0.0,>=0.3.58->langchain) (9.1.2)\n",
            "Requirement already satisfied: jsonpatch<2.0,>=1.33 in /usr/local/lib/python3.11/dist-packages (from langchain-core<1.0.0,>=0.3.58->langchain) (1.33)\n",
            "Requirement already satisfied: ormsgpack<2.0.0,>=1.8.0 in /usr/local/lib/python3.11/dist-packages (from langgraph-checkpoint>=2.0.26->langgraph) (1.10.0)\n",
            "Requirement already satisfied: orjson>=3.10.1 in /usr/local/lib/python3.11/dist-packages (from langgraph-sdk>=0.1.42->langgraph) (3.10.18)\n",
            "Requirement already satisfied: requests-toolbelt<2.0.0,>=1.0.0 in /usr/local/lib/python3.11/dist-packages (from langsmith<0.4,>=0.1.17->langchain) (1.0.0)\n",
            "Requirement already satisfied: zstandard<0.24.0,>=0.23.0 in /usr/local/lib/python3.11/dist-packages (from langsmith<0.4,>=0.1.17->langchain) (0.23.0)\n",
            "Requirement already satisfied: annotated-types>=0.6.0 in /usr/local/lib/python3.11/dist-packages (from pydantic<3.0.0,>=2.7.4->langchain) (0.7.0)\n",
            "Requirement already satisfied: pydantic-core==2.33.2 in /usr/local/lib/python3.11/dist-packages (from pydantic<3.0.0,>=2.7.4->langchain) (2.33.2)\n",
            "Requirement already satisfied: typing-inspection>=0.4.0 in /usr/local/lib/python3.11/dist-packages (from pydantic<3.0.0,>=2.7.4->langchain) (0.4.0)\n",
            "Requirement already satisfied: six>=1.5 in /usr/local/lib/python3.11/dist-packages (from python-dateutil>=2.7->matplotlib) (1.17.0)\n",
            "Requirement already satisfied: charset-normalizer<4,>=2 in /usr/local/lib/python3.11/dist-packages (from requests<3,>=2->langchain) (3.4.2)\n",
            "Requirement already satisfied: urllib3<3,>=1.21.1 in /usr/local/lib/python3.11/dist-packages (from requests<3,>=2->langchain) (2.4.0)\n",
            "Requirement already satisfied: greenlet>=1 in /usr/local/lib/python3.11/dist-packages (from SQLAlchemy<3,>=1.4->langchain) (3.2.2)\n",
            "Requirement already satisfied: jsonpointer>=1.9 in /usr/local/lib/python3.11/dist-packages (from jsonpatch<2.0,>=1.33->langchain-core<1.0.0,>=0.3.58->langchain) (3.0.0)\n"
          ]
        }
      ],
      "source": [
        "!pip install langchain langgraph openai networkx matplotlib"
      ]
    },
    {
      "cell_type": "code",
      "execution_count": 3,
      "metadata": {
        "colab": {
          "base_uri": "https://localhost:8080/"
        },
        "id": "c8z6sZBhQqST",
        "outputId": "008eda56-904a-412a-f75f-941e46538d7a"
      },
      "outputs": [
        {
          "name": "stdout",
          "output_type": "stream",
          "text": [
            "Requirement already satisfied: langchain-google-genai in /usr/local/lib/python3.11/dist-packages (2.1.4)\n",
            "Requirement already satisfied: filetype<2.0.0,>=1.2.0 in /usr/local/lib/python3.11/dist-packages (from langchain-google-genai) (1.2.0)\n",
            "Requirement already satisfied: google-ai-generativelanguage<0.7.0,>=0.6.18 in /usr/local/lib/python3.11/dist-packages (from langchain-google-genai) (0.6.18)\n",
            "Requirement already satisfied: langchain-core<0.4.0,>=0.3.52 in /usr/local/lib/python3.11/dist-packages (from langchain-google-genai) (0.3.59)\n",
            "Requirement already satisfied: pydantic<3,>=2 in /usr/local/lib/python3.11/dist-packages (from langchain-google-genai) (2.11.4)\n",
            "Requirement already satisfied: google-api-core!=2.0.*,!=2.1.*,!=2.10.*,!=2.2.*,!=2.3.*,!=2.4.*,!=2.5.*,!=2.6.*,!=2.7.*,!=2.8.*,!=2.9.*,<3.0.0,>=1.34.1 in /usr/local/lib/python3.11/dist-packages (from google-api-core[grpc]!=2.0.*,!=2.1.*,!=2.10.*,!=2.2.*,!=2.3.*,!=2.4.*,!=2.5.*,!=2.6.*,!=2.7.*,!=2.8.*,!=2.9.*,<3.0.0,>=1.34.1->google-ai-generativelanguage<0.7.0,>=0.6.18->langchain-google-genai) (2.24.2)\n",
            "Requirement already satisfied: google-auth!=2.24.0,!=2.25.0,<3.0.0,>=2.14.1 in /usr/local/lib/python3.11/dist-packages (from google-ai-generativelanguage<0.7.0,>=0.6.18->langchain-google-genai) (2.38.0)\n",
            "Requirement already satisfied: proto-plus<2.0.0,>=1.22.3 in /usr/local/lib/python3.11/dist-packages (from google-ai-generativelanguage<0.7.0,>=0.6.18->langchain-google-genai) (1.26.1)\n",
            "Requirement already satisfied: protobuf!=4.21.0,!=4.21.1,!=4.21.2,!=4.21.3,!=4.21.4,!=4.21.5,<7.0.0,>=3.20.2 in /usr/local/lib/python3.11/dist-packages (from google-ai-generativelanguage<0.7.0,>=0.6.18->langchain-google-genai) (5.29.4)\n",
            "Requirement already satisfied: langsmith<0.4,>=0.1.125 in /usr/local/lib/python3.11/dist-packages (from langchain-core<0.4.0,>=0.3.52->langchain-google-genai) (0.3.42)\n",
            "Requirement already satisfied: tenacity!=8.4.0,<10.0.0,>=8.1.0 in /usr/local/lib/python3.11/dist-packages (from langchain-core<0.4.0,>=0.3.52->langchain-google-genai) (9.1.2)\n",
            "Requirement already satisfied: jsonpatch<2.0,>=1.33 in /usr/local/lib/python3.11/dist-packages (from langchain-core<0.4.0,>=0.3.52->langchain-google-genai) (1.33)\n",
            "Requirement already satisfied: PyYAML>=5.3 in /usr/local/lib/python3.11/dist-packages (from langchain-core<0.4.0,>=0.3.52->langchain-google-genai) (6.0.2)\n",
            "Requirement already satisfied: packaging<25,>=23.2 in /usr/local/lib/python3.11/dist-packages (from langchain-core<0.4.0,>=0.3.52->langchain-google-genai) (24.2)\n",
            "Requirement already satisfied: typing-extensions>=4.7 in /usr/local/lib/python3.11/dist-packages (from langchain-core<0.4.0,>=0.3.52->langchain-google-genai) (4.13.2)\n",
            "Requirement already satisfied: annotated-types>=0.6.0 in /usr/local/lib/python3.11/dist-packages (from pydantic<3,>=2->langchain-google-genai) (0.7.0)\n",
            "Requirement already satisfied: pydantic-core==2.33.2 in /usr/local/lib/python3.11/dist-packages (from pydantic<3,>=2->langchain-google-genai) (2.33.2)\n",
            "Requirement already satisfied: typing-inspection>=0.4.0 in /usr/local/lib/python3.11/dist-packages (from pydantic<3,>=2->langchain-google-genai) (0.4.0)\n",
            "Requirement already satisfied: googleapis-common-protos<2.0.0,>=1.56.2 in /usr/local/lib/python3.11/dist-packages (from google-api-core!=2.0.*,!=2.1.*,!=2.10.*,!=2.2.*,!=2.3.*,!=2.4.*,!=2.5.*,!=2.6.*,!=2.7.*,!=2.8.*,!=2.9.*,<3.0.0,>=1.34.1->google-api-core[grpc]!=2.0.*,!=2.1.*,!=2.10.*,!=2.2.*,!=2.3.*,!=2.4.*,!=2.5.*,!=2.6.*,!=2.7.*,!=2.8.*,!=2.9.*,<3.0.0,>=1.34.1->google-ai-generativelanguage<0.7.0,>=0.6.18->langchain-google-genai) (1.70.0)\n",
            "Requirement already satisfied: requests<3.0.0,>=2.18.0 in /usr/local/lib/python3.11/dist-packages (from google-api-core!=2.0.*,!=2.1.*,!=2.10.*,!=2.2.*,!=2.3.*,!=2.4.*,!=2.5.*,!=2.6.*,!=2.7.*,!=2.8.*,!=2.9.*,<3.0.0,>=1.34.1->google-api-core[grpc]!=2.0.*,!=2.1.*,!=2.10.*,!=2.2.*,!=2.3.*,!=2.4.*,!=2.5.*,!=2.6.*,!=2.7.*,!=2.8.*,!=2.9.*,<3.0.0,>=1.34.1->google-ai-generativelanguage<0.7.0,>=0.6.18->langchain-google-genai) (2.32.3)\n",
            "Requirement already satisfied: grpcio<2.0dev,>=1.33.2 in /usr/local/lib/python3.11/dist-packages (from google-api-core[grpc]!=2.0.*,!=2.1.*,!=2.10.*,!=2.2.*,!=2.3.*,!=2.4.*,!=2.5.*,!=2.6.*,!=2.7.*,!=2.8.*,!=2.9.*,<3.0.0,>=1.34.1->google-ai-generativelanguage<0.7.0,>=0.6.18->langchain-google-genai) (1.71.0)\n",
            "Requirement already satisfied: grpcio-status<2.0.dev0,>=1.33.2 in /usr/local/lib/python3.11/dist-packages (from google-api-core[grpc]!=2.0.*,!=2.1.*,!=2.10.*,!=2.2.*,!=2.3.*,!=2.4.*,!=2.5.*,!=2.6.*,!=2.7.*,!=2.8.*,!=2.9.*,<3.0.0,>=1.34.1->google-ai-generativelanguage<0.7.0,>=0.6.18->langchain-google-genai) (1.71.0)\n",
            "Requirement already satisfied: cachetools<6.0,>=2.0.0 in /usr/local/lib/python3.11/dist-packages (from google-auth!=2.24.0,!=2.25.0,<3.0.0,>=2.14.1->google-ai-generativelanguage<0.7.0,>=0.6.18->langchain-google-genai) (5.5.2)\n",
            "Requirement already satisfied: pyasn1-modules>=0.2.1 in /usr/local/lib/python3.11/dist-packages (from google-auth!=2.24.0,!=2.25.0,<3.0.0,>=2.14.1->google-ai-generativelanguage<0.7.0,>=0.6.18->langchain-google-genai) (0.4.2)\n",
            "Requirement already satisfied: rsa<5,>=3.1.4 in /usr/local/lib/python3.11/dist-packages (from google-auth!=2.24.0,!=2.25.0,<3.0.0,>=2.14.1->google-ai-generativelanguage<0.7.0,>=0.6.18->langchain-google-genai) (4.9.1)\n",
            "Requirement already satisfied: jsonpointer>=1.9 in /usr/local/lib/python3.11/dist-packages (from jsonpatch<2.0,>=1.33->langchain-core<0.4.0,>=0.3.52->langchain-google-genai) (3.0.0)\n",
            "Requirement already satisfied: httpx<1,>=0.23.0 in /usr/local/lib/python3.11/dist-packages (from langsmith<0.4,>=0.1.125->langchain-core<0.4.0,>=0.3.52->langchain-google-genai) (0.28.1)\n",
            "Requirement already satisfied: orjson<4.0.0,>=3.9.14 in /usr/local/lib/python3.11/dist-packages (from langsmith<0.4,>=0.1.125->langchain-core<0.4.0,>=0.3.52->langchain-google-genai) (3.10.18)\n",
            "Requirement already satisfied: requests-toolbelt<2.0.0,>=1.0.0 in /usr/local/lib/python3.11/dist-packages (from langsmith<0.4,>=0.1.125->langchain-core<0.4.0,>=0.3.52->langchain-google-genai) (1.0.0)\n",
            "Requirement already satisfied: zstandard<0.24.0,>=0.23.0 in /usr/local/lib/python3.11/dist-packages (from langsmith<0.4,>=0.1.125->langchain-core<0.4.0,>=0.3.52->langchain-google-genai) (0.23.0)\n",
            "Requirement already satisfied: anyio in /usr/local/lib/python3.11/dist-packages (from httpx<1,>=0.23.0->langsmith<0.4,>=0.1.125->langchain-core<0.4.0,>=0.3.52->langchain-google-genai) (4.9.0)\n",
            "Requirement already satisfied: certifi in /usr/local/lib/python3.11/dist-packages (from httpx<1,>=0.23.0->langsmith<0.4,>=0.1.125->langchain-core<0.4.0,>=0.3.52->langchain-google-genai) (2025.4.26)\n",
            "Requirement already satisfied: httpcore==1.* in /usr/local/lib/python3.11/dist-packages (from httpx<1,>=0.23.0->langsmith<0.4,>=0.1.125->langchain-core<0.4.0,>=0.3.52->langchain-google-genai) (1.0.9)\n",
            "Requirement already satisfied: idna in /usr/local/lib/python3.11/dist-packages (from httpx<1,>=0.23.0->langsmith<0.4,>=0.1.125->langchain-core<0.4.0,>=0.3.52->langchain-google-genai) (3.10)\n",
            "Requirement already satisfied: h11>=0.16 in /usr/local/lib/python3.11/dist-packages (from httpcore==1.*->httpx<1,>=0.23.0->langsmith<0.4,>=0.1.125->langchain-core<0.4.0,>=0.3.52->langchain-google-genai) (0.16.0)\n",
            "Requirement already satisfied: pyasn1<0.7.0,>=0.6.1 in /usr/local/lib/python3.11/dist-packages (from pyasn1-modules>=0.2.1->google-auth!=2.24.0,!=2.25.0,<3.0.0,>=2.14.1->google-ai-generativelanguage<0.7.0,>=0.6.18->langchain-google-genai) (0.6.1)\n",
            "Requirement already satisfied: charset-normalizer<4,>=2 in /usr/local/lib/python3.11/dist-packages (from requests<3.0.0,>=2.18.0->google-api-core!=2.0.*,!=2.1.*,!=2.10.*,!=2.2.*,!=2.3.*,!=2.4.*,!=2.5.*,!=2.6.*,!=2.7.*,!=2.8.*,!=2.9.*,<3.0.0,>=1.34.1->google-api-core[grpc]!=2.0.*,!=2.1.*,!=2.10.*,!=2.2.*,!=2.3.*,!=2.4.*,!=2.5.*,!=2.6.*,!=2.7.*,!=2.8.*,!=2.9.*,<3.0.0,>=1.34.1->google-ai-generativelanguage<0.7.0,>=0.6.18->langchain-google-genai) (3.4.2)\n",
            "Requirement already satisfied: urllib3<3,>=1.21.1 in /usr/local/lib/python3.11/dist-packages (from requests<3.0.0,>=2.18.0->google-api-core!=2.0.*,!=2.1.*,!=2.10.*,!=2.2.*,!=2.3.*,!=2.4.*,!=2.5.*,!=2.6.*,!=2.7.*,!=2.8.*,!=2.9.*,<3.0.0,>=1.34.1->google-api-core[grpc]!=2.0.*,!=2.1.*,!=2.10.*,!=2.2.*,!=2.3.*,!=2.4.*,!=2.5.*,!=2.6.*,!=2.7.*,!=2.8.*,!=2.9.*,<3.0.0,>=1.34.1->google-ai-generativelanguage<0.7.0,>=0.6.18->langchain-google-genai) (2.4.0)\n",
            "Requirement already satisfied: sniffio>=1.1 in /usr/local/lib/python3.11/dist-packages (from anyio->httpx<1,>=0.23.0->langsmith<0.4,>=0.1.125->langchain-core<0.4.0,>=0.3.52->langchain-google-genai) (1.3.1)\n"
          ]
        }
      ],
      "source": [
        "pip install langchain-google-genai"
      ]
    },
    {
      "cell_type": "code",
      "execution_count": 4,
      "metadata": {
        "id": "5LLjqBiWQ17R"
      },
      "outputs": [],
      "source": [
        "from langchain_google_genai import ChatGoogleGenerativeAI"
      ]
    },
    {
      "cell_type": "code",
      "execution_count": 5,
      "metadata": {
        "id": "0caOPNHZDVUU"
      },
      "outputs": [],
      "source": [
        "from typing import Annotated\n",
        "\n",
        "from typing_extensions import TypedDict\n",
        "\n",
        "from langgraph.graph import StateGraph, START\n",
        "from langgraph.graph.message import add_messages"
      ]
    },
    {
      "cell_type": "code",
      "execution_count": 6,
      "metadata": {
        "id": "-NgCuZXkDXnU"
      },
      "outputs": [],
      "source": [
        "class State(TypedDict):\n",
        "    # Messages have the type \"list\". The `add_messages` function\n",
        "    # in the annotation defines how this state key should be updated\n",
        "    # (in this case, it appends messages to the list, rather than overwriting them)\n",
        "    messages: Annotated[list, add_messages]\n",
        "\n",
        "\n",
        "graph_builder = StateGraph(State)"
      ]
    },
    {
      "cell_type": "code",
      "execution_count": 7,
      "metadata": {
        "colab": {
          "base_uri": "https://localhost:8080/"
        },
        "id": "vUq-JzkCFFcq",
        "outputId": "0aa8d102-2d59-4ed5-99f5-65c7c578a758"
      },
      "outputs": [
        {
          "name": "stdout",
          "output_type": "stream",
          "text": [
            "Requirement already satisfied: langchain[google-genai] in /usr/local/lib/python3.11/dist-packages (0.3.25)\n",
            "Requirement already satisfied: langchain-core<1.0.0,>=0.3.58 in /usr/local/lib/python3.11/dist-packages (from langchain[google-genai]) (0.3.59)\n",
            "Requirement already satisfied: langchain-text-splitters<1.0.0,>=0.3.8 in /usr/local/lib/python3.11/dist-packages (from langchain[google-genai]) (0.3.8)\n",
            "Requirement already satisfied: langsmith<0.4,>=0.1.17 in /usr/local/lib/python3.11/dist-packages (from langchain[google-genai]) (0.3.42)\n",
            "Requirement already satisfied: pydantic<3.0.0,>=2.7.4 in /usr/local/lib/python3.11/dist-packages (from langchain[google-genai]) (2.11.4)\n",
            "Requirement already satisfied: SQLAlchemy<3,>=1.4 in /usr/local/lib/python3.11/dist-packages (from langchain[google-genai]) (2.0.40)\n",
            "Requirement already satisfied: requests<3,>=2 in /usr/local/lib/python3.11/dist-packages (from langchain[google-genai]) (2.32.3)\n",
            "Requirement already satisfied: PyYAML>=5.3 in /usr/local/lib/python3.11/dist-packages (from langchain[google-genai]) (6.0.2)\n",
            "Requirement already satisfied: langchain-google-genai in /usr/local/lib/python3.11/dist-packages (from langchain[google-genai]) (2.1.4)\n",
            "Requirement already satisfied: tenacity!=8.4.0,<10.0.0,>=8.1.0 in /usr/local/lib/python3.11/dist-packages (from langchain-core<1.0.0,>=0.3.58->langchain[google-genai]) (9.1.2)\n",
            "Requirement already satisfied: jsonpatch<2.0,>=1.33 in /usr/local/lib/python3.11/dist-packages (from langchain-core<1.0.0,>=0.3.58->langchain[google-genai]) (1.33)\n",
            "Requirement already satisfied: packaging<25,>=23.2 in /usr/local/lib/python3.11/dist-packages (from langchain-core<1.0.0,>=0.3.58->langchain[google-genai]) (24.2)\n",
            "Requirement already satisfied: typing-extensions>=4.7 in /usr/local/lib/python3.11/dist-packages (from langchain-core<1.0.0,>=0.3.58->langchain[google-genai]) (4.13.2)\n",
            "Requirement already satisfied: httpx<1,>=0.23.0 in /usr/local/lib/python3.11/dist-packages (from langsmith<0.4,>=0.1.17->langchain[google-genai]) (0.28.1)\n",
            "Requirement already satisfied: orjson<4.0.0,>=3.9.14 in /usr/local/lib/python3.11/dist-packages (from langsmith<0.4,>=0.1.17->langchain[google-genai]) (3.10.18)\n",
            "Requirement already satisfied: requests-toolbelt<2.0.0,>=1.0.0 in /usr/local/lib/python3.11/dist-packages (from langsmith<0.4,>=0.1.17->langchain[google-genai]) (1.0.0)\n",
            "Requirement already satisfied: zstandard<0.24.0,>=0.23.0 in /usr/local/lib/python3.11/dist-packages (from langsmith<0.4,>=0.1.17->langchain[google-genai]) (0.23.0)\n",
            "Requirement already satisfied: annotated-types>=0.6.0 in /usr/local/lib/python3.11/dist-packages (from pydantic<3.0.0,>=2.7.4->langchain[google-genai]) (0.7.0)\n",
            "Requirement already satisfied: pydantic-core==2.33.2 in /usr/local/lib/python3.11/dist-packages (from pydantic<3.0.0,>=2.7.4->langchain[google-genai]) (2.33.2)\n",
            "Requirement already satisfied: typing-inspection>=0.4.0 in /usr/local/lib/python3.11/dist-packages (from pydantic<3.0.0,>=2.7.4->langchain[google-genai]) (0.4.0)\n",
            "Requirement already satisfied: charset-normalizer<4,>=2 in /usr/local/lib/python3.11/dist-packages (from requests<3,>=2->langchain[google-genai]) (3.4.2)\n",
            "Requirement already satisfied: idna<4,>=2.5 in /usr/local/lib/python3.11/dist-packages (from requests<3,>=2->langchain[google-genai]) (3.10)\n",
            "Requirement already satisfied: urllib3<3,>=1.21.1 in /usr/local/lib/python3.11/dist-packages (from requests<3,>=2->langchain[google-genai]) (2.4.0)\n",
            "Requirement already satisfied: certifi>=2017.4.17 in /usr/local/lib/python3.11/dist-packages (from requests<3,>=2->langchain[google-genai]) (2025.4.26)\n",
            "Requirement already satisfied: greenlet>=1 in /usr/local/lib/python3.11/dist-packages (from SQLAlchemy<3,>=1.4->langchain[google-genai]) (3.2.2)\n",
            "Requirement already satisfied: filetype<2.0.0,>=1.2.0 in /usr/local/lib/python3.11/dist-packages (from langchain-google-genai->langchain[google-genai]) (1.2.0)\n",
            "Requirement already satisfied: google-ai-generativelanguage<0.7.0,>=0.6.18 in /usr/local/lib/python3.11/dist-packages (from langchain-google-genai->langchain[google-genai]) (0.6.18)\n",
            "Requirement already satisfied: google-api-core!=2.0.*,!=2.1.*,!=2.10.*,!=2.2.*,!=2.3.*,!=2.4.*,!=2.5.*,!=2.6.*,!=2.7.*,!=2.8.*,!=2.9.*,<3.0.0,>=1.34.1 in /usr/local/lib/python3.11/dist-packages (from google-api-core[grpc]!=2.0.*,!=2.1.*,!=2.10.*,!=2.2.*,!=2.3.*,!=2.4.*,!=2.5.*,!=2.6.*,!=2.7.*,!=2.8.*,!=2.9.*,<3.0.0,>=1.34.1->google-ai-generativelanguage<0.7.0,>=0.6.18->langchain-google-genai->langchain[google-genai]) (2.24.2)\n",
            "Requirement already satisfied: google-auth!=2.24.0,!=2.25.0,<3.0.0,>=2.14.1 in /usr/local/lib/python3.11/dist-packages (from google-ai-generativelanguage<0.7.0,>=0.6.18->langchain-google-genai->langchain[google-genai]) (2.38.0)\n",
            "Requirement already satisfied: proto-plus<2.0.0,>=1.22.3 in /usr/local/lib/python3.11/dist-packages (from google-ai-generativelanguage<0.7.0,>=0.6.18->langchain-google-genai->langchain[google-genai]) (1.26.1)\n",
            "Requirement already satisfied: protobuf!=4.21.0,!=4.21.1,!=4.21.2,!=4.21.3,!=4.21.4,!=4.21.5,<7.0.0,>=3.20.2 in /usr/local/lib/python3.11/dist-packages (from google-ai-generativelanguage<0.7.0,>=0.6.18->langchain-google-genai->langchain[google-genai]) (5.29.4)\n",
            "Requirement already satisfied: anyio in /usr/local/lib/python3.11/dist-packages (from httpx<1,>=0.23.0->langsmith<0.4,>=0.1.17->langchain[google-genai]) (4.9.0)\n",
            "Requirement already satisfied: httpcore==1.* in /usr/local/lib/python3.11/dist-packages (from httpx<1,>=0.23.0->langsmith<0.4,>=0.1.17->langchain[google-genai]) (1.0.9)\n",
            "Requirement already satisfied: h11>=0.16 in /usr/local/lib/python3.11/dist-packages (from httpcore==1.*->httpx<1,>=0.23.0->langsmith<0.4,>=0.1.17->langchain[google-genai]) (0.16.0)\n",
            "Requirement already satisfied: jsonpointer>=1.9 in /usr/local/lib/python3.11/dist-packages (from jsonpatch<2.0,>=1.33->langchain-core<1.0.0,>=0.3.58->langchain[google-genai]) (3.0.0)\n",
            "Requirement already satisfied: googleapis-common-protos<2.0.0,>=1.56.2 in /usr/local/lib/python3.11/dist-packages (from google-api-core!=2.0.*,!=2.1.*,!=2.10.*,!=2.2.*,!=2.3.*,!=2.4.*,!=2.5.*,!=2.6.*,!=2.7.*,!=2.8.*,!=2.9.*,<3.0.0,>=1.34.1->google-api-core[grpc]!=2.0.*,!=2.1.*,!=2.10.*,!=2.2.*,!=2.3.*,!=2.4.*,!=2.5.*,!=2.6.*,!=2.7.*,!=2.8.*,!=2.9.*,<3.0.0,>=1.34.1->google-ai-generativelanguage<0.7.0,>=0.6.18->langchain-google-genai->langchain[google-genai]) (1.70.0)\n",
            "Requirement already satisfied: grpcio<2.0dev,>=1.33.2 in /usr/local/lib/python3.11/dist-packages (from google-api-core[grpc]!=2.0.*,!=2.1.*,!=2.10.*,!=2.2.*,!=2.3.*,!=2.4.*,!=2.5.*,!=2.6.*,!=2.7.*,!=2.8.*,!=2.9.*,<3.0.0,>=1.34.1->google-ai-generativelanguage<0.7.0,>=0.6.18->langchain-google-genai->langchain[google-genai]) (1.71.0)\n",
            "Requirement already satisfied: grpcio-status<2.0.dev0,>=1.33.2 in /usr/local/lib/python3.11/dist-packages (from google-api-core[grpc]!=2.0.*,!=2.1.*,!=2.10.*,!=2.2.*,!=2.3.*,!=2.4.*,!=2.5.*,!=2.6.*,!=2.7.*,!=2.8.*,!=2.9.*,<3.0.0,>=1.34.1->google-ai-generativelanguage<0.7.0,>=0.6.18->langchain-google-genai->langchain[google-genai]) (1.71.0)\n",
            "Requirement already satisfied: cachetools<6.0,>=2.0.0 in /usr/local/lib/python3.11/dist-packages (from google-auth!=2.24.0,!=2.25.0,<3.0.0,>=2.14.1->google-ai-generativelanguage<0.7.0,>=0.6.18->langchain-google-genai->langchain[google-genai]) (5.5.2)\n",
            "Requirement already satisfied: pyasn1-modules>=0.2.1 in /usr/local/lib/python3.11/dist-packages (from google-auth!=2.24.0,!=2.25.0,<3.0.0,>=2.14.1->google-ai-generativelanguage<0.7.0,>=0.6.18->langchain-google-genai->langchain[google-genai]) (0.4.2)\n",
            "Requirement already satisfied: rsa<5,>=3.1.4 in /usr/local/lib/python3.11/dist-packages (from google-auth!=2.24.0,!=2.25.0,<3.0.0,>=2.14.1->google-ai-generativelanguage<0.7.0,>=0.6.18->langchain-google-genai->langchain[google-genai]) (4.9.1)\n",
            "Requirement already satisfied: sniffio>=1.1 in /usr/local/lib/python3.11/dist-packages (from anyio->httpx<1,>=0.23.0->langsmith<0.4,>=0.1.17->langchain[google-genai]) (1.3.1)\n",
            "Requirement already satisfied: pyasn1<0.7.0,>=0.6.1 in /usr/local/lib/python3.11/dist-packages (from pyasn1-modules>=0.2.1->google-auth!=2.24.0,!=2.25.0,<3.0.0,>=2.14.1->google-ai-generativelanguage<0.7.0,>=0.6.18->langchain-google-genai->langchain[google-genai]) (0.6.1)\n"
          ]
        }
      ],
      "source": [
        "pip install -U \"langchain[google-genai]\""
      ]
    },
    {
      "cell_type": "code",
      "execution_count": null,
      "metadata": {
        "id": "ncvbNl9PFP4T"
      },
      "outputs": [],
      "source": [
        "import os\n",
        "from langchain.chat_models import init_chat_model\n",
        "\n",
        "os.environ[\"GOOGLE_API_KEY\"] = \"\"\n",
        "\n",
        "llm = init_chat_model(\"google_genai:gemini-2.0-flash\")"
      ]
    },
    {
      "cell_type": "code",
      "execution_count": 9,
      "metadata": {
        "colab": {
          "base_uri": "https://localhost:8080/"
        },
        "id": "NM45VFE2Fn37",
        "outputId": "21230372-165a-44c9-d894-cdebc6bf4e19"
      },
      "outputs": [
        {
          "data": {
            "text/plain": [
              "<langgraph.graph.state.StateGraph at 0x7faffbbce4d0>"
            ]
          },
          "execution_count": 9,
          "metadata": {},
          "output_type": "execute_result"
        }
      ],
      "source": [
        "def chatbot(state: State):\n",
        "    return {\"messages\": [llm.invoke(state[\"messages\"])]}\n",
        "\n",
        "\n",
        "# The first argument is the unique node name\n",
        "# The second argument is the function or object that will be called whenever\n",
        "# the node is used.\n",
        "graph_builder.add_node(\"chatbot\", chatbot)"
      ]
    },
    {
      "cell_type": "code",
      "execution_count": 10,
      "metadata": {
        "colab": {
          "base_uri": "https://localhost:8080/"
        },
        "id": "6Sk7fjsfFvcY",
        "outputId": "957cdc96-4d70-43ab-b199-c7c5f2e5f195"
      },
      "outputs": [
        {
          "data": {
            "text/plain": [
              "<langgraph.graph.state.StateGraph at 0x7faffbbce4d0>"
            ]
          },
          "execution_count": 10,
          "metadata": {},
          "output_type": "execute_result"
        }
      ],
      "source": [
        "graph_builder.add_edge(START, \"chatbot\")"
      ]
    },
    {
      "cell_type": "code",
      "execution_count": 11,
      "metadata": {
        "id": "43ataM8UKBJH"
      },
      "outputs": [],
      "source": [
        "graph = graph_builder.compile()"
      ]
    },
    {
      "cell_type": "code",
      "execution_count": 12,
      "metadata": {
        "colab": {
          "base_uri": "https://localhost:8080/",
          "height": 251
        },
        "id": "sLyes6-4InUU",
        "outputId": "600943ba-94ca-45e0-a5c3-2b6d61b47249"
      },
      "outputs": [
        {
          "data": {
            "image/png": "[encoded data removed]",
            "text/plain": [
              "<IPython.core.display.Image object>"
            ]
          },
          "metadata": {},
          "output_type": "display_data"
        }
      ],
      "source": [
        "from IPython.display import Image, display\n",
        "\n",
        "try:\n",
        "    display(Image(graph.get_graph().draw_mermaid_png()))\n",
        "except Exception:\n",
        "    # This requires some extra dependencies and is optional\n",
        "    pass"
      ]
    },
    {
      "cell_type": "code",
      "execution_count": 13,
      "metadata": {
        "id": "vx-HZn7QKoP-"
      },
      "outputs": [],
      "source": [
        "from langchain_core.tools import tool"
      ]
    },
    {
      "cell_type": "code",
      "execution_count": 14,
      "metadata": {
        "colab": {
          "base_uri": "https://localhost:8080/"
        },
        "id": "wZm-M0QqKtJ8",
        "outputId": "a60eb7b8-9837-422e-ef4c-d3945ef413c2"
      },
      "outputs": [
        {
          "data": {
            "text/plain": [
              "{'description': \"A simple two-input calculator tool that delegates arithmetic operations to an LLM.\\n\\nArgs:\\n    inputs: A dictionary with the following keys:\\n        operation (str): The operation to perform ('add', 'subtract', 'multiply', 'divide').\\n        num1 (float): The first number.\\n        num2 (float): The second number.\\n\\nReturns:\\n    dict: A dictionary containing the operation, inputs, and the result.\",\n",
              " 'properties': {'inputs': {'title': 'Inputs'}},\n",
              " 'required': ['inputs'],\n",
              " 'title': 'llm_calculator_tool',\n",
              " 'type': 'object'}"
            ]
          },
          "execution_count": 14,
          "metadata": {},
          "output_type": "execute_result"
        }
      ],
      "source": [
        "@tool\n",
        "def llm_calculator_tool(inputs):\n",
        "    \"\"\"\n",
        "    A simple two-input calculator tool that delegates arithmetic operations to an LLM.\n",
        "\n",
        "    Args:\n",
        "        inputs: A dictionary with the following keys:\n",
        "            operation (str): The operation to perform ('add', 'subtract', 'multiply', 'divide').\n",
        "            num1 (float): The first number.\n",
        "            num2 (float): The second number.\n",
        "\n",
        "    Returns:\n",
        "        dict: A dictionary containing the operation, inputs, and the result.\n",
        "    \"\"\"\n",
        "    operation = inputs.get('operation')\n",
        "    num1 = inputs.get('num1')\n",
        "    num2 = inputs.get('num2')\n",
        "\n",
        "    # Validate inputs\n",
        "    if operation not in ['add', 'subtract', 'multiply', 'divide']:\n",
        "        return {\"error\": \"Invalid operation. Choose from 'add', 'subtract', 'multiply', or 'divide'.\"}\n",
        "    if not isinstance(num1, (int, float)) or not isinstance(num2, (int, float)):\n",
        "        return {\"error\": \"Inputs 'num1' and 'num2' must be numbers.\"}\n",
        "    if operation == 'divide' and num2 == 0:\n",
        "        return {\"error\": \"Division by zero is not allowed.\"}\n",
        "\n",
        "    # Perform calculation\n",
        "    if operation == 'add':\n",
        "        result = num1 + num2\n",
        "    elif operation == 'subtract':\n",
        "        result = num1 - num2\n",
        "    elif operation == 'multiply':\n",
        "        result = num1 * num2\n",
        "    elif operation == 'divide':\n",
        "        result = num1 / num2\n",
        "\n",
        "    return {\n",
        "        \"operation\": operation,\n",
        "        \"num1\": num1,\n",
        "        \"num2\": num2,\n",
        "        \"result\": result\n",
        "    }\n",
        "llm_calculator_tool.args_schema.model_json_schema()"
      ]
    },
    {
      "cell_type": "code",
      "execution_count": 15,
      "metadata": {
        "id": "0eEkbqiBMTei"
      },
      "outputs": [],
      "source": [
        "from typing import Literal\n",
        "from langgraph.graph import StateGraph, MessagesState, START, END\n",
        "from langgraph.prebuilt import ToolNode"
      ]
    },
    {
      "cell_type": "code",
      "execution_count": 16,
      "metadata": {
        "id": "5v-uPWRiMpYl"
      },
      "outputs": [],
      "source": [
        "tools=[llm_calculator_tool]"
      ]
    },
    {
      "cell_type": "code",
      "execution_count": 17,
      "metadata": {
        "id": "Vjc1Q6DCMs47"
      },
      "outputs": [],
      "source": [
        "tool_node= ToolNode(tools=tools)"
      ]
    },
    {
      "cell_type": "code",
      "execution_count": 18,
      "metadata": {
        "id": "VriZDXhSMyMF"
      },
      "outputs": [],
      "source": [
        "llm_with_tools= llm.bind_tools(tools=tools)\n"
      ]
    },
    {
      "cell_type": "code",
      "execution_count": 19,
      "metadata": {
        "id": "Hh2Cdqx6NAQR"
      },
      "outputs": [],
      "source": [
        "def call_model(state: MessagesState):\n",
        "   message= state[\"messages\"]\n",
        "   response= llm_with_tools.invoke(message)\n",
        "   return {\"messages\": [response]}"
      ]
    },
    {
      "cell_type": "code",
      "execution_count": 20,
      "metadata": {
        "id": "P4hrCrh1NfRS"
      },
      "outputs": [],
      "source": [
        "def should_continue(state: MessagesState):\n",
        "  message = state[\"messages\"]\n",
        "  last_message = message[-1]\n",
        "  if last_message.tool_calls:\n",
        "    return \"tools\"\n",
        "  return END"
      ]
    },
    {
      "cell_type": "code",
      "execution_count": 21,
      "metadata": {
        "colab": {
          "base_uri": "https://localhost:8080/"
        },
        "id": "aw4EjIhhOEgV",
        "outputId": "ffba8021-afae-4493-d370-1f8407d9eef6"
      },
      "outputs": [
        {
          "data": {
            "text/plain": [
              "<langgraph.graph.state.StateGraph at 0x7faff8ad4110>"
            ]
          },
          "execution_count": 21,
          "metadata": {},
          "output_type": "execute_result"
        }
      ],
      "source": [
        "workflows = StateGraph(MessagesState)\n",
        "workflows.add_node(\"agent\", call_model)\n",
        "workflows.add_node(\"tools\", tool_node)\n",
        "workflows.add_edge(START, \"agent\")\n",
        "workflows.add_conditional_edges(\"agent\", should_continue, [\"tools\",END])\n",
        "workflows.add_edge(\"tools\", \"agent\")"
      ]
    },
    {
      "cell_type": "code",
      "execution_count": 22,
      "metadata": {
        "id": "KBrCDmaVOm-r"
      },
      "outputs": [],
      "source": [
        "ai= workflows.compile()"
      ]
    },
    {
      "cell_type": "code",
      "execution_count": 23,
      "metadata": {
        "colab": {
          "base_uri": "https://localhost:8080/",
          "height": 266
        },
        "id": "nUhQ5UG_OrX4",
        "outputId": "04d82dda-ad61-43dd-b15a-02a5e83cb67a"
      },
      "outputs": [
        {
          "data": {
            "image/png": "[encoded data removed]",
            "text/plain": [
              "<IPython.core.display.Image object>"
            ]
          },
          "metadata": {},
          "output_type": "display_data"
        }
      ],
      "source": [
        "from IPython.display import Image, display\n",
        "display(Image(ai.get_graph().draw_mermaid_png()))"
      ]
    },
    {
      "cell_type": "code",
      "execution_count": 24,
      "metadata": {
        "colab": {
          "base_uri": "https://localhost:8080/"
        },
        "id": "JCQle0ZQOwhk",
        "outputId": "ad2e9481-8660-47b7-f7af-9d8ca0ddc30d"
      },
      "outputs": [
        {
          "name": "stdout",
          "output_type": "stream",
          "text": [
            "Requirement already satisfied: langchain-tavily in /usr/local/lib/python3.11/dist-packages (0.1.6)\n",
            "Requirement already satisfied: aiohttp<4.0.0,>=3.11.14 in /usr/local/lib/python3.11/dist-packages (from langchain-tavily) (3.11.15)\n",
            "Requirement already satisfied: langchain<0.4.0,>=0.3.20 in /usr/local/lib/python3.11/dist-packages (from langchain-tavily) (0.3.25)\n",
            "Requirement already satisfied: langchain-core<0.4.0,>=0.3.15 in /usr/local/lib/python3.11/dist-packages (from langchain-tavily) (0.3.59)\n",
            "Requirement already satisfied: mypy<2.0.0,>=1.15.0 in /usr/local/lib/python3.11/dist-packages (from langchain-tavily) (1.15.0)\n",
            "Requirement already satisfied: requests<3.0.0,>=2.32.3 in /usr/local/lib/python3.11/dist-packages (from langchain-tavily) (2.32.3)\n",
            "Requirement already satisfied: aiohappyeyeballs>=2.3.0 in /usr/local/lib/python3.11/dist-packages (from aiohttp<4.0.0,>=3.11.14->langchain-tavily) (2.6.1)\n",
            "Requirement already satisfied: aiosignal>=1.1.2 in /usr/local/lib/python3.11/dist-packages (from aiohttp<4.0.0,>=3.11.14->langchain-tavily) (1.3.2)\n",
            "Requirement already satisfied: attrs>=17.3.0 in /usr/local/lib/python3.11/dist-packages (from aiohttp<4.0.0,>=3.11.14->langchain-tavily) (25.3.0)\n",
            "Requirement already satisfied: frozenlist>=1.1.1 in /usr/local/lib/python3.11/dist-packages (from aiohttp<4.0.0,>=3.11.14->langchain-tavily) (1.6.0)\n",
            "Requirement already satisfied: multidict<7.0,>=4.5 in /usr/local/lib/python3.11/dist-packages (from aiohttp<4.0.0,>=3.11.14->langchain-tavily) (6.4.3)\n",
            "Requirement already satisfied: propcache>=0.2.0 in /usr/local/lib/python3.11/dist-packages (from aiohttp<4.0.0,>=3.11.14->langchain-tavily) (0.3.1)\n",
            "Requirement already satisfied: yarl<2.0,>=1.17.0 in /usr/local/lib/python3.11/dist-packages (from aiohttp<4.0.0,>=3.11.14->langchain-tavily) (1.20.0)\n",
            "Requirement already satisfied: langchain-text-splitters<1.0.0,>=0.3.8 in /usr/local/lib/python3.11/dist-packages (from langchain<0.4.0,>=0.3.20->langchain-tavily) (0.3.8)\n",
            "Requirement already satisfied: langsmith<0.4,>=0.1.17 in /usr/local/lib/python3.11/dist-packages (from langchain<0.4.0,>=0.3.20->langchain-tavily) (0.3.42)\n",
            "Requirement already satisfied: pydantic<3.0.0,>=2.7.4 in /usr/local/lib/python3.11/dist-packages (from langchain<0.4.0,>=0.3.20->langchain-tavily) (2.11.4)\n",
            "Requirement already satisfied: SQLAlchemy<3,>=1.4 in /usr/local/lib/python3.11/dist-packages (from langchain<0.4.0,>=0.3.20->langchain-tavily) (2.0.40)\n",
            "Requirement already satisfied: PyYAML>=5.3 in /usr/local/lib/python3.11/dist-packages (from langchain<0.4.0,>=0.3.20->langchain-tavily) (6.0.2)\n",
            "Requirement already satisfied: tenacity!=8.4.0,<10.0.0,>=8.1.0 in /usr/local/lib/python3.11/dist-packages (from langchain-core<0.4.0,>=0.3.15->langchain-tavily) (9.1.2)\n",
            "Requirement already satisfied: jsonpatch<2.0,>=1.33 in /usr/local/lib/python3.11/dist-packages (from langchain-core<0.4.0,>=0.3.15->langchain-tavily) (1.33)\n",
            "Requirement already satisfied: packaging<25,>=23.2 in /usr/local/lib/python3.11/dist-packages (from langchain-core<0.4.0,>=0.3.15->langchain-tavily) (24.2)\n",
            "Requirement already satisfied: typing-extensions>=4.7 in /usr/local/lib/python3.11/dist-packages (from langchain-core<0.4.0,>=0.3.15->langchain-tavily) (4.13.2)\n",
            "Requirement already satisfied: mypy_extensions>=1.0.0 in /usr/local/lib/python3.11/dist-packages (from mypy<2.0.0,>=1.15.0->langchain-tavily) (1.1.0)\n",
            "Requirement already satisfied: charset-normalizer<4,>=2 in /usr/local/lib/python3.11/dist-packages (from requests<3.0.0,>=2.32.3->langchain-tavily) (3.4.2)\n",
            "Requirement already satisfied: idna<4,>=2.5 in /usr/local/lib/python3.11/dist-packages (from requests<3.0.0,>=2.32.3->langchain-tavily) (3.10)\n",
            "Requirement already satisfied: urllib3<3,>=1.21.1 in /usr/local/lib/python3.11/dist-packages (from requests<3.0.0,>=2.32.3->langchain-tavily) (2.4.0)\n",
            "Requirement already satisfied: certifi>=2017.4.17 in /usr/local/lib/python3.11/dist-packages (from requests<3.0.0,>=2.32.3->langchain-tavily) (2025.4.26)\n",
            "Requirement already satisfied: jsonpointer>=1.9 in /usr/local/lib/python3.11/dist-packages (from jsonpatch<2.0,>=1.33->langchain-core<0.4.0,>=0.3.15->langchain-tavily) (3.0.0)\n",
            "Requirement already satisfied: httpx<1,>=0.23.0 in /usr/local/lib/python3.11/dist-packages (from langsmith<0.4,>=0.1.17->langchain<0.4.0,>=0.3.20->langchain-tavily) (0.28.1)\n",
            "Requirement already satisfied: orjson<4.0.0,>=3.9.14 in /usr/local/lib/python3.11/dist-packages (from langsmith<0.4,>=0.1.17->langchain<0.4.0,>=0.3.20->langchain-tavily) (3.10.18)\n",
            "Requirement already satisfied: requests-toolbelt<2.0.0,>=1.0.0 in /usr/local/lib/python3.11/dist-packages (from langsmith<0.4,>=0.1.17->langchain<0.4.0,>=0.3.20->langchain-tavily) (1.0.0)\n",
            "Requirement already satisfied: zstandard<0.24.0,>=0.23.0 in /usr/local/lib/python3.11/dist-packages (from langsmith<0.4,>=0.1.17->langchain<0.4.0,>=0.3.20->langchain-tavily) (0.23.0)\n",
            "Requirement already satisfied: annotated-types>=0.6.0 in /usr/local/lib/python3.11/dist-packages (from pydantic<3.0.0,>=2.7.4->langchain<0.4.0,>=0.3.20->langchain-tavily) (0.7.0)\n",
            "Requirement already satisfied: pydantic-core==2.33.2 in /usr/local/lib/python3.11/dist-packages (from pydantic<3.0.0,>=2.7.4->langchain<0.4.0,>=0.3.20->langchain-tavily) (2.33.2)\n",
            "Requirement already satisfied: typing-inspection>=0.4.0 in /usr/local/lib/python3.11/dist-packages (from pydantic<3.0.0,>=2.7.4->langchain<0.4.0,>=0.3.20->langchain-tavily) (0.4.0)\n",
            "Requirement already satisfied: greenlet>=1 in /usr/local/lib/python3.11/dist-packages (from SQLAlchemy<3,>=1.4->langchain<0.4.0,>=0.3.20->langchain-tavily) (3.2.2)\n",
            "Requirement already satisfied: anyio in /usr/local/lib/python3.11/dist-packages (from httpx<1,>=0.23.0->langsmith<0.4,>=0.1.17->langchain<0.4.0,>=0.3.20->langchain-tavily) (4.9.0)\n",
            "Requirement already satisfied: httpcore==1.* in /usr/local/lib/python3.11/dist-packages (from httpx<1,>=0.23.0->langsmith<0.4,>=0.1.17->langchain<0.4.0,>=0.3.20->langchain-tavily) (1.0.9)\n",
            "Requirement already satisfied: h11>=0.16 in /usr/local/lib/python3.11/dist-packages (from httpcore==1.*->httpx<1,>=0.23.0->langsmith<0.4,>=0.1.17->langchain<0.4.0,>=0.3.20->langchain-tavily) (0.16.0)\n",
            "Requirement already satisfied: sniffio>=1.1 in /usr/local/lib/python3.11/dist-packages (from anyio->httpx<1,>=0.23.0->langsmith<0.4,>=0.1.17->langchain<0.4.0,>=0.3.20->langchain-tavily) (1.3.1)\n"
          ]
        }
      ],
      "source": [
        "pip install -U langchain-tavily"
      ]
    },
    {
      "cell_type": "code",
      "execution_count": null,
      "metadata": {
        "id": "HVRFfNAwRcXo"
      },
      "outputs": [],
      "source": [
        "import os\n",
        "\n",
        "\n",
        "os.environ[\"TAVILY_API_KEY\"] = \"\"\n",
        "\n"
      ]
    },
    {
      "cell_type": "code",
      "execution_count": 26,
      "metadata": {
        "id": "hyDHSiaSR5VV"
      },
      "outputs": [],
      "source": [
        "from langchain_tavily import TavilySearch\n",
        "\n",
        "searchtool = TavilySearch(max_results=2)\n",
        "tools1 = [searchtool]"
      ]
    },
    {
      "cell_type": "code",
      "execution_count": 27,
      "metadata": {
        "id": "cN1iiuSgSChj"
      },
      "outputs": [],
      "source": [
        "tool_node1= ToolNode(tools=tools1)\n",
        "llm_with_tools1= llm_with_tools.bind_tools(tools=tools1)"
      ]
    },
    {
      "cell_type": "code",
      "execution_count": 28,
      "metadata": {
        "id": "BL4imfHHSWT9"
      },
      "outputs": [],
      "source": [
        "def call_model1(state: MessagesState):\n",
        "   message= state[\"messages\"]\n",
        "   response= llm_with_tools1.invoke(message)\n",
        "   return {\"messages\": [response]}"
      ]
    },
    {
      "cell_type": "code",
      "execution_count": 29,
      "metadata": {
        "id": "0YoLALy7SeQo"
      },
      "outputs": [],
      "source": [
        "def should_continue1(state: MessagesState):\n",
        "  message = state[\"messages\"]\n",
        "  last_message = message[-1]\n",
        "  if last_message.tool_calls:\n",
        "    return \"tools1\"\n",
        "  return END"
      ]
    },
    {
      "cell_type": "code",
      "execution_count": 30,
      "metadata": {
        "colab": {
          "base_uri": "https://localhost:8080/"
        },
        "id": "orlikl8FS6CG",
        "outputId": "dea49164-edec-4d0d-a9f6-4ee208b22d4a"
      },
      "outputs": [
        {
          "name": "stderr",
          "output_type": "stream",
          "text": [
            "WARNING:langgraph.graph.state:Adding a node to a graph that has already been compiled. This will not be reflected in the compiled graph.\n",
            "WARNING:langgraph.graph.state:Adding an edge to a graph that has already been compiled. This will not be reflected in the compiled graph.\n",
            "WARNING:langgraph.graph.graph:Adding an edge to a graph that has already been compiled. This will not be reflected in the compiled graph.\n"
          ]
        },
        {
          "data": {
            "text/plain": [
              "<langgraph.graph.state.StateGraph at 0x7faff8ad4110>"
            ]
          },
          "execution_count": 30,
          "metadata": {},
          "output_type": "execute_result"
        }
      ],
      "source": [
        "workflows.add_node(\"tools1\", tool_node1)\n",
        "workflows.add_conditional_edges(\"agent\", should_continue1, [\"tools1\",END])\n",
        "workflows.add_edge(\"tools1\", \"agent\")"
      ]
    },
    {
      "cell_type": "code",
      "execution_count": 31,
      "metadata": {
        "id": "-MPoznONTg18"
      },
      "outputs": [],
      "source": [
        "ai1=workflows.compile()"
      ]
    },
    {
      "cell_type": "code",
      "execution_count": 32,
      "metadata": {
        "colab": {
          "base_uri": "https://localhost:8080/",
          "height": 266
        },
        "id": "7TMqumEXTiE9",
        "outputId": "b6d76839-48a2-44bc-9fad-89830c86f27b"
      },
      "outputs": [
        {
          "data": {
            "image/png": "[encoded data removed]",
            "text/plain": [
              "<IPython.core.display.Image object>"
            ]
          },
          "metadata": {},
          "output_type": "display_data"
        }
      ],
      "source": [
        "from IPython.display import Image, display\n",
        "display(Image(ai1.get_graph().draw_mermaid_png()))"
      ]
    },
    {
      "cell_type": "code",
      "execution_count": 33,
      "metadata": {
        "colab": {
          "base_uri": "https://localhost:8080/"
        },
        "id": "BZVTaT3t2x4u",
        "outputId": "6d4d40bb-02e1-4a5a-f750-acc38ff7125b"
      },
      "outputs": [
        {
          "data": {
            "text/plain": [
              "{'query': 'what is trending in tokyo fashion',\n",
              " 'follow_up_questions': None,\n",
              " 'answer': None,\n",
              " 'images': [],\n",
              " 'results': [{'title': 'Tokyo Is My Second Home, and These Are the 5 Summer 2024 Fashion Trends',\n",
              "   'url': 'https://www.instyle.com/tokyo-summer-2024-fashion-trends-8659417',\n",
              "   'content': 'Tokyo Is My Second Home, and Everyone in Japan Is Wearing These 5 Breezy Summer Trends The first thing you notice when you step off the plane in Tokyo is that everyone is wearing wide-leg pants. While here in the West it’s more common to style wide-leg pants with fitted tops, in Japan they keep everything rather loose. It’s not common for women to wear flat shoes to work, and three-plus-inch heels begin to stand out too much (which, contrary to New York fashion, is not desired). Absolutely no one is complaining when there are such cute options such as this bowtie slingback from Reformation or ridiculously comfy chunky heel from Vivaia—seriously, I saw at least ten people wearing this exact shoe.',\n",
              "   'score': 0.8184036,\n",
              "   'raw_content': None},\n",
              "  {'title': 'What Are People Wearing in Tokyo? (Fashion Trends 2025 Japan ... - YouTube',\n",
              "   'url': 'https://www.youtube.com/watch?v=x1dfQnyxJY0',\n",
              "   'content': \"What Are People Wearing in Tokyo? (Fashion Trends 2025 Japan Street Style Ep.154) \\n Dev Moore \\n 611 likes \\n 19742 views \\n 14 Feb 2025 \\n What are people wearing in Tokyo? Explore the fashion trends 2025 has to offer and learn what's hot! From Tokyo street style to casual summer outfits, we've got you covered. We take a look at the coolest street fashion and hottest summer wardrobes that are sure to be awesome in the coming year.\\n\\nWatch More What Are People Wearing in Tokyo: @devmooreurl\\n\\nJoin me in the 154th episode of What Are People Wearing as we take a look at the 2025 street fashion of Tokyo, Japan for 2025. I'll be covering streetwear outfits 2025 that are sure to be awesome for 2025 fashion, as well as the latest 2025 streetwear brands that are shining in the fashion industry. We'll be exploring the japanese fashion capital neighborhood of tokyo including omotesando hills, takeshita street, Daikanyama, shibuya, plus tokyo's koenji neighborhood to get a glimpse of what millennial styles, gen z fashion, and learn more about what people are wearing. We'll also be checking out the 2025 streetwear design styles that are always worth checking out. This episode will be perfect for summer fashion 2025, featuring the latest Streetwear 2025 Womens fashion trends and the freshest tokyo street style. Don't miss out on all the post-looks from Tokyo Fashion Week 2025 and the fashion trends 2025 summer has to offer from Tokyo as they show off their style!\\n\\n0:00 Intro\\n0:08 Saki & Hiroko Unosawa ( @ unosaru_08 ) ( @ unoa08 )\\n0:37 Mai\\n1:11 What Are People Wearing in Tokyo? (Harajuku, Shimokitazawa, Daikanyama)\\n1:18 Cdo ( @ __7k____ ) & @ Sei ( @ seitengram )\\n1:56 Chie ( @ chie1238 )\\n2:26 Ren & Taichi\\n3:01 ( @ ayn_mitarai )\\n3:29 Silent One from China !\\n3:41 Hana ( @ zilag__ ) & @ Norika ( @ shflzk02 )\\n4:34 Yuka ( @ gusibgu_ )\\n4:59 Coco ( @ cocokurokawa )\\n5:45 Migeru ( @ miguelangelnegrin ) & in the pool ( @ in_the__pool )\\n6:44 Kento ( @ vanillaice_mzlz )\\n7:27 Chihiro & Naoya ( @ jokerlupinhowl & @ naoya_fukuya)\\nStore: @ karaku_harajuku\\n8:25 Shimokitazawa Street Style\\n8:45 Haruki ( @ haruki____327 )\\n9:12 Fuuka ( @ re_re_used )\\n9:42 TOY ( IG: @ toy_309 ) and on Youtube at @TOY_Official.\\n10:19 Rinka & Nonoka ( @ dos_conejitas )\\n11:00 Saki ( @ iwai_saki86 )\\n11:42 Fuyuri\\n12:12 Ono Asahi ( @ ryori_taberu )\\n12:46 Adam & Kristen\\n13:40 Nana\\n13:52 Daikanyama Street Style\\n14:01 Muto & Satsuki\\n14:45 Daikanyama Tsutaya T-Site Bookstore\\n14:57 Ayane ( @ 1224shima ) & Yuqi ( @ yuqi_wear )\\n15:54 Hiroki\\n16:29 Hana\\n16:57 Jiwon ( @ romanticgrotesque )\\n18:03 Ayaka & Yuka\\n18:56 Yu-ri\\n\\nMusic by @freezythegoat. \\u200b \\n 73 comments\",\n",
              "   'score': 0.74229145,\n",
              "   'raw_content': None}],\n",
              " 'response_time': 1.25}"
            ]
          },
          "execution_count": 33,
          "metadata": {},
          "output_type": "execute_result"
        }
      ],
      "source": [
        "searchtool.invoke(\"what is trending in tokyo fashion\")"
      ]
    },
    {
      "cell_type": "code",
      "execution_count": 34,
      "metadata": {
        "colab": {
          "base_uri": "https://localhost:8080/"
        },
        "id": "qcPL-8bwv_dR",
        "outputId": "0ccdabbf-0139-4ca5-f6d1-58fa177bf41a"
      },
      "outputs": [
        {
          "name": "stdout",
          "output_type": "stream",
          "text": [
            "Requirement already satisfied: pyowm in /usr/local/lib/python3.11/dist-packages (3.3.0)\n",
            "Requirement already satisfied: requests<3,>=2.20.0 in /usr/local/lib/python3.11/dist-packages (from pyowm) (2.32.3)\n",
            "Requirement already satisfied: geojson<3,>=2.3.0 in /usr/local/lib/python3.11/dist-packages (from pyowm) (2.5.0)\n",
            "Requirement already satisfied: PySocks<2,>=1.7.1 in /usr/local/lib/python3.11/dist-packages (from pyowm) (1.7.1)\n",
            "Requirement already satisfied: charset-normalizer<4,>=2 in /usr/local/lib/python3.11/dist-packages (from requests<3,>=2.20.0->pyowm) (3.4.2)\n",
            "Requirement already satisfied: idna<4,>=2.5 in /usr/local/lib/python3.11/dist-packages (from requests<3,>=2.20.0->pyowm) (3.10)\n",
            "Requirement already satisfied: urllib3<3,>=1.21.1 in /usr/local/lib/python3.11/dist-packages (from requests<3,>=2.20.0->pyowm) (2.4.0)\n",
            "Requirement already satisfied: certifi>=2017.4.17 in /usr/local/lib/python3.11/dist-packages (from requests<3,>=2.20.0->pyowm) (2025.4.26)\n"
          ]
        }
      ],
      "source": [
        "pip install pyowm"
      ]
    },
    {
      "cell_type": "code",
      "execution_count": 35,
      "metadata": {
        "colab": {
          "base_uri": "https://localhost:8080/"
        },
        "id": "F4M9p93Yyc5s",
        "outputId": "4fe8c140-3332-4a9d-e20d-023285c7e446"
      },
      "outputs": [
        {
          "name": "stdout",
          "output_type": "stream",
          "text": [
            "Requirement already satisfied: langchain-community in /usr/local/lib/python3.11/dist-packages (0.3.24)\n",
            "Requirement already satisfied: langchain-core<1.0.0,>=0.3.59 in /usr/local/lib/python3.11/dist-packages (from langchain-community) (0.3.59)\n",
            "Requirement already satisfied: langchain<1.0.0,>=0.3.25 in /usr/local/lib/python3.11/dist-packages (from langchain-community) (0.3.25)\n",
            "Requirement already satisfied: SQLAlchemy<3,>=1.4 in /usr/local/lib/python3.11/dist-packages (from langchain-community) (2.0.40)\n",
            "Requirement already satisfied: requests<3,>=2 in /usr/local/lib/python3.11/dist-packages (from langchain-community) (2.32.3)\n",
            "Requirement already satisfied: PyYAML>=5.3 in /usr/local/lib/python3.11/dist-packages (from langchain-community) (6.0.2)\n",
            "Requirement already satisfied: aiohttp<4.0.0,>=3.8.3 in /usr/local/lib/python3.11/dist-packages (from langchain-community) (3.11.15)\n",
            "Requirement already satisfied: tenacity!=8.4.0,<10,>=8.1.0 in /usr/local/lib/python3.11/dist-packages (from langchain-community) (9.1.2)\n",
            "Requirement already satisfied: dataclasses-json<0.7,>=0.5.7 in /usr/local/lib/python3.11/dist-packages (from langchain-community) (0.6.7)\n",
            "Requirement already satisfied: pydantic-settings<3.0.0,>=2.4.0 in /usr/local/lib/python3.11/dist-packages (from langchain-community) (2.9.1)\n",
            "Requirement already satisfied: langsmith<0.4,>=0.1.125 in /usr/local/lib/python3.11/dist-packages (from langchain-community) (0.3.42)\n",
            "Requirement already satisfied: httpx-sse<1.0.0,>=0.4.0 in /usr/local/lib/python3.11/dist-packages (from langchain-community) (0.4.0)\n",
            "Requirement already satisfied: numpy>=1.26.2 in /usr/local/lib/python3.11/dist-packages (from langchain-community) (2.0.2)\n",
            "Requirement already satisfied: aiohappyeyeballs>=2.3.0 in /usr/local/lib/python3.11/dist-packages (from aiohttp<4.0.0,>=3.8.3->langchain-community) (2.6.1)\n",
            "Requirement already satisfied: aiosignal>=1.1.2 in /usr/local/lib/python3.11/dist-packages (from aiohttp<4.0.0,>=3.8.3->langchain-community) (1.3.2)\n",
            "Requirement already satisfied: attrs>=17.3.0 in /usr/local/lib/python3.11/dist-packages (from aiohttp<4.0.0,>=3.8.3->langchain-community) (25.3.0)\n",
            "Requirement already satisfied: frozenlist>=1.1.1 in /usr/local/lib/python3.11/dist-packages (from aiohttp<4.0.0,>=3.8.3->langchain-community) (1.6.0)\n",
            "Requirement already satisfied: multidict<7.0,>=4.5 in /usr/local/lib/python3.11/dist-packages (from aiohttp<4.0.0,>=3.8.3->langchain-community) (6.4.3)\n",
            "Requirement already satisfied: propcache>=0.2.0 in /usr/local/lib/python3.11/dist-packages (from aiohttp<4.0.0,>=3.8.3->langchain-community) (0.3.1)\n",
            "Requirement already satisfied: yarl<2.0,>=1.17.0 in /usr/local/lib/python3.11/dist-packages (from aiohttp<4.0.0,>=3.8.3->langchain-community) (1.20.0)\n",
            "Requirement already satisfied: marshmallow<4.0.0,>=3.18.0 in /usr/local/lib/python3.11/dist-packages (from dataclasses-json<0.7,>=0.5.7->langchain-community) (3.26.1)\n",
            "Requirement already satisfied: typing-inspect<1,>=0.4.0 in /usr/local/lib/python3.11/dist-packages (from dataclasses-json<0.7,>=0.5.7->langchain-community) (0.9.0)\n",
            "Requirement already satisfied: langchain-text-splitters<1.0.0,>=0.3.8 in /usr/local/lib/python3.11/dist-packages (from langchain<1.0.0,>=0.3.25->langchain-community) (0.3.8)\n",
            "Requirement already satisfied: pydantic<3.0.0,>=2.7.4 in /usr/local/lib/python3.11/dist-packages (from langchain<1.0.0,>=0.3.25->langchain-community) (2.11.4)\n",
            "Requirement already satisfied: jsonpatch<2.0,>=1.33 in /usr/local/lib/python3.11/dist-packages (from langchain-core<1.0.0,>=0.3.59->langchain-community) (1.33)\n",
            "Requirement already satisfied: packaging<25,>=23.2 in /usr/local/lib/python3.11/dist-packages (from langchain-core<1.0.0,>=0.3.59->langchain-community) (24.2)\n",
            "Requirement already satisfied: typing-extensions>=4.7 in /usr/local/lib/python3.11/dist-packages (from langchain-core<1.0.0,>=0.3.59->langchain-community) (4.13.2)\n",
            "Requirement already satisfied: httpx<1,>=0.23.0 in /usr/local/lib/python3.11/dist-packages (from langsmith<0.4,>=0.1.125->langchain-community) (0.28.1)\n",
            "Requirement already satisfied: orjson<4.0.0,>=3.9.14 in /usr/local/lib/python3.11/dist-packages (from langsmith<0.4,>=0.1.125->langchain-community) (3.10.18)\n",
            "Requirement already satisfied: requests-toolbelt<2.0.0,>=1.0.0 in /usr/local/lib/python3.11/dist-packages (from langsmith<0.4,>=0.1.125->langchain-community) (1.0.0)\n",
            "Requirement already satisfied: zstandard<0.24.0,>=0.23.0 in /usr/local/lib/python3.11/dist-packages (from langsmith<0.4,>=0.1.125->langchain-community) (0.23.0)\n",
            "Requirement already satisfied: python-dotenv>=0.21.0 in /usr/local/lib/python3.11/dist-packages (from pydantic-settings<3.0.0,>=2.4.0->langchain-community) (1.1.0)\n",
            "Requirement already satisfied: typing-inspection>=0.4.0 in /usr/local/lib/python3.11/dist-packages (from pydantic-settings<3.0.0,>=2.4.0->langchain-community) (0.4.0)\n",
            "Requirement already satisfied: charset-normalizer<4,>=2 in /usr/local/lib/python3.11/dist-packages (from requests<3,>=2->langchain-community) (3.4.2)\n",
            "Requirement already satisfied: idna<4,>=2.5 in /usr/local/lib/python3.11/dist-packages (from requests<3,>=2->langchain-community) (3.10)\n",
            "Requirement already satisfied: urllib3<3,>=1.21.1 in /usr/local/lib/python3.11/dist-packages (from requests<3,>=2->langchain-community) (2.4.0)\n",
            "Requirement already satisfied: certifi>=2017.4.17 in /usr/local/lib/python3.11/dist-packages (from requests<3,>=2->langchain-community) (2025.4.26)\n",
            "Requirement already satisfied: greenlet>=1 in /usr/local/lib/python3.11/dist-packages (from SQLAlchemy<3,>=1.4->langchain-community) (3.2.2)\n",
            "Requirement already satisfied: anyio in /usr/local/lib/python3.11/dist-packages (from httpx<1,>=0.23.0->langsmith<0.4,>=0.1.125->langchain-community) (4.9.0)\n",
            "Requirement already satisfied: httpcore==1.* in /usr/local/lib/python3.11/dist-packages (from httpx<1,>=0.23.0->langsmith<0.4,>=0.1.125->langchain-community) (1.0.9)\n",
            "Requirement already satisfied: h11>=0.16 in /usr/local/lib/python3.11/dist-packages (from httpcore==1.*->httpx<1,>=0.23.0->langsmith<0.4,>=0.1.125->langchain-community) (0.16.0)\n",
            "Requirement already satisfied: jsonpointer>=1.9 in /usr/local/lib/python3.11/dist-packages (from jsonpatch<2.0,>=1.33->langchain-core<1.0.0,>=0.3.59->langchain-community) (3.0.0)\n",
            "Requirement already satisfied: annotated-types>=0.6.0 in /usr/local/lib/python3.11/dist-packages (from pydantic<3.0.0,>=2.7.4->langchain<1.0.0,>=0.3.25->langchain-community) (0.7.0)\n",
            "Requirement already satisfied: pydantic-core==2.33.2 in /usr/local/lib/python3.11/dist-packages (from pydantic<3.0.0,>=2.7.4->langchain<1.0.0,>=0.3.25->langchain-community) (2.33.2)\n",
            "Requirement already satisfied: mypy-extensions>=0.3.0 in /usr/local/lib/python3.11/dist-packages (from typing-inspect<1,>=0.4.0->dataclasses-json<0.7,>=0.5.7->langchain-community) (1.1.0)\n",
            "Requirement already satisfied: sniffio>=1.1 in /usr/local/lib/python3.11/dist-packages (from anyio->httpx<1,>=0.23.0->langsmith<0.4,>=0.1.125->langchain-community) (1.3.1)\n"
          ]
        }
      ],
      "source": [
        "pip install langchain-community"
      ]
    },
    {
      "cell_type": "code",
      "execution_count": null,
      "metadata": {
        "id": "v4w1jZ4LyGP9"
      },
      "outputs": [],
      "source": [
        "import os\n",
        "\n",
        "from langchain_community.utilities import OpenWeatherMapAPIWrapper\n",
        "\n",
        "os.environ[\"OPENWEATHERMAP_API_KEY\"] = \"\"\n",
        "import google.generativeai as genai\n",
        "genai.configure(api_key=os.getenv('OPENWEATHERMAP_API_KEY'))\n",
        "\n",
        "weather = OpenWeatherMapAPIWrapper()\n",
        "tools2 = [weather.run]"
      ]
    },
    {
      "cell_type": "code",
      "execution_count": 37,
      "metadata": {
        "id": "ytsN2BNgygDv"
      },
      "outputs": [],
      "source": [
        "tool_node2= ToolNode(tools=tools2)\n",
        "llm_with_tools2= llm_with_tools1.bind_tools(tools=tools2)"
      ]
    },
    {
      "cell_type": "code",
      "execution_count": 38,
      "metadata": {
        "id": "ogrs3rHPzBtZ"
      },
      "outputs": [],
      "source": [
        "def call_model2(state: MessagesState):\n",
        "   message= state[\"messages\"]\n",
        "   response= llm_with_tools2.invoke(message)\n",
        "   return {\"messages\": [response]}"
      ]
    },
    {
      "cell_type": "code",
      "execution_count": 39,
      "metadata": {
        "id": "xi7nmKt2zG_U"
      },
      "outputs": [],
      "source": [
        "def should_continue2(state: MessagesState):\n",
        "  message = state[\"messages\"]\n",
        "  last_message = message[-1]\n",
        "  if last_message.tool_calls:\n",
        "    return \"tools2\"\n",
        "  return END"
      ]
    },
    {
      "cell_type": "code",
      "execution_count": 40,
      "metadata": {
        "colab": {
          "base_uri": "https://localhost:8080/"
        },
        "id": "FLTMJLe5zJY5",
        "outputId": "e162b55b-1601-400a-f22f-5b42fa1c0a53"
      },
      "outputs": [
        {
          "name": "stderr",
          "output_type": "stream",
          "text": [
            "WARNING:langgraph.graph.state:Adding a node to a graph that has already been compiled. This will not be reflected in the compiled graph.\n",
            "WARNING:langgraph.graph.state:Adding an edge to a graph that has already been compiled. This will not be reflected in the compiled graph.\n",
            "WARNING:langgraph.graph.graph:Adding an edge to a graph that has already been compiled. This will not be reflected in the compiled graph.\n"
          ]
        },
        {
          "data": {
            "text/plain": [
              "<langgraph.graph.state.StateGraph at 0x7faff8ad4110>"
            ]
          },
          "execution_count": 40,
          "metadata": {},
          "output_type": "execute_result"
        }
      ],
      "source": [
        "workflows.add_node(\"tools2\", tool_node2)\n",
        "workflows.add_conditional_edges(\"agent\", should_continue2, [\"tools2\",END])\n",
        "workflows.add_edge(\"tools2\", \"agent\")"
      ]
    },
    {
      "cell_type": "code",
      "execution_count": 41,
      "metadata": {
        "id": "GvPXkWYHzTUL"
      },
      "outputs": [],
      "source": [
        "ai2=workflows.compile()"
      ]
    },
    {
      "cell_type": "code",
      "execution_count": 42,
      "metadata": {
        "colab": {
          "base_uri": "https://localhost:8080/",
          "height": 266
        },
        "id": "_bAg0l3mzVRW",
        "outputId": "60f0dca1-583e-4fef-f3f6-a2f316dcdca4"
      },
      "outputs": [
        {
          "data": {
            "image/png": "[encoded data removed]",
            "text/plain": [
              "<IPython.core.display.Image object>"
            ]
          },
          "metadata": {},
          "output_type": "display_data"
        }
      ],
      "source": [
        "from IPython.display import Image, display\n",
        "display(Image(ai2.get_graph().draw_mermaid_png()))"
      ]
    },
    {
      "cell_type": "code",
      "execution_count": 43,
      "metadata": {
        "colab": {
          "base_uri": "https://localhost:8080/",
          "height": 53
        },
        "id": "8AwMeP0S28mW",
        "outputId": "4c2fa027-30ae-4423-d5ed-ba7960cf5762"
      },
      "outputs": [
        {
          "data": {
            "application/vnd.google.colaboratory.intrinsic+json": {
              "type": "string"
            },
            "text/plain": [
              "'In Delhi, the current weather is as follows:\\nDetailed status: mist\\nWind speed: 2.06 m/s, direction: 50°\\nHumidity: 83%\\nTemperature: \\n  - Current: 28.05°C\\n  - High: 28.05°C\\n  - Low: 28.05°C\\n  - Feels like: 32.71°C\\nRain: {}\\nHeat index: None\\nCloud cover: 8%'"
            ]
          },
          "execution_count": 43,
          "metadata": {},
          "output_type": "execute_result"
        }
      ],
      "source": [
        "weather.run(\"Delhi\")"
      ]
    },
    {
      "cell_type": "code",
      "execution_count": 44,
      "metadata": {
        "id": "VDoQ_FeX5eXV"
      },
      "outputs": [],
      "source": [
        "from langgraph.checkpoint.memory import MemorySaver\n",
        "\n",
        "memory = MemorySaver()"
      ]
    },
    {
      "cell_type": "code",
      "execution_count": 45,
      "metadata": {
        "id": "jqdme-SZ8_fb"
      },
      "outputs": [],
      "source": [
        "ai3=workflows.compile(checkpointer=memory)"
      ]
    },
    {
      "cell_type": "code",
      "execution_count": 46,
      "metadata": {
        "colab": {
          "base_uri": "https://localhost:8080/",
          "height": 266
        },
        "id": "qba41qD29EuB",
        "outputId": "d19be3d1-65ce-4419-b7cf-937e3dd3deee"
      },
      "outputs": [
        {
          "data": {
            "image/png": "[encoded data removed]",
            "text/plain": [
              "<IPython.core.display.Image object>"
            ]
          },
          "metadata": {},
          "output_type": "display_data"
        }
      ],
      "source": [
        "from IPython.display import Image, display\n",
        "display(Image(ai3.get_graph().draw_mermaid_png()))"
      ]
    },
    {
      "cell_type": "markdown",
      "metadata": {
        "id": "-1f69k-_nc8S"
      },
      "source": [
        "**FINAL AI CREATION AND ADDING MORE AGENTS AND RUNNING SOME PROMPTS**"
      ]
    },
    {
      "cell_type": "code",
      "execution_count": 47,
      "metadata": {
        "id": "K9eZq6LaXQK8"
      },
      "outputs": [],
      "source": [
        "tools_final = [llm_calculator_tool,searchtool, weather.run]\n",
        "llm_with_tools_final = llm.bind_tools(tools=tools_final)\n"
      ]
    },
    {
      "cell_type": "code",
      "execution_count": 48,
      "metadata": {
        "id": "KzTMvDZiXzfC"
      },
      "outputs": [],
      "source": [
        "def call_model_final(state: MessagesState):\n",
        "   message= state[\"messages\"]\n",
        "   response= llm_with_tools_final.invoke(message)\n",
        "   return {\"messages\": [response]}"
      ]
    },
    {
      "cell_type": "code",
      "execution_count": 49,
      "metadata": {
        "id": "Le85_YVAYZJR"
      },
      "outputs": [],
      "source": [
        "def should_continue_final(state: MessagesState):\n",
        "  message = state[\"messages\"]\n",
        "  last_message = message[-1]\n",
        "  if last_message.tool_calls:\n",
        "    return \"tools\"\n",
        "  return END"
      ]
    },
    {
      "cell_type": "code",
      "execution_count": 50,
      "metadata": {
        "id": "RRokqFa0Yu-G"
      },
      "outputs": [],
      "source": [
        "tool_node_final= ToolNode(tools=tools_final)"
      ]
    },
    {
      "cell_type": "code",
      "execution_count": 51,
      "metadata": {
        "colab": {
          "base_uri": "https://localhost:8080/"
        },
        "id": "x6lhReHNYdY5",
        "outputId": "f783d62d-2987-4a89-8f3a-bd7a22df3090"
      },
      "outputs": [
        {
          "data": {
            "text/plain": [
              "<langgraph.graph.state.StateGraph at 0x7faff82d12d0>"
            ]
          },
          "execution_count": 51,
          "metadata": {},
          "output_type": "execute_result"
        }
      ],
      "source": [
        "workflows_final = StateGraph(MessagesState)\n",
        "workflows_final.add_node(\"agent\", call_model_final)\n",
        "workflows_final.add_node(\"tools\", tool_node_final)\n",
        "workflows_final.add_edge(START, \"agent\")\n",
        "workflows_final.add_conditional_edges(\"agent\", should_continue_final, [\"tools\",END])\n",
        "workflows_final.add_edge(\"tools\", \"agent\")"
      ]
    },
    {
      "cell_type": "code",
      "execution_count": 52,
      "metadata": {
        "id": "5Q8-wfBLY2q3"
      },
      "outputs": [],
      "source": [
        "ai_final=workflows_final.compile()"
      ]
    },
    {
      "cell_type": "code",
      "execution_count": 53,
      "metadata": {
        "colab": {
          "base_uri": "https://localhost:8080/",
          "height": 266
        },
        "id": "iO58Pj_wY5EG",
        "outputId": "7dfbece5-cb7b-42e3-cb63-44385cdf5b8b"
      },
      "outputs": [
        {
          "data": {
            "image/png": "[encoded data removed]",
            "text/plain": [
              "<IPython.core.display.Image object>"
            ]
          },
          "metadata": {},
          "output_type": "display_data"
        }
      ],
      "source": [
        "from IPython.display import Image, display\n",
        "display(Image(ai_final.get_graph().draw_mermaid_png()))"
      ]
    },
    {
      "cell_type": "code",
      "execution_count": 54,
      "metadata": {
        "id": "xzUu8wnZY9eL"
      },
      "outputs": [],
      "source": [
        "ai_final=workflows_final.compile(checkpointer=memory)"
      ]
    },
    {
      "cell_type": "code",
      "execution_count": 55,
      "metadata": {
        "colab": {
          "base_uri": "https://localhost:8080/",
          "height": 266
        },
        "id": "U5un5Hl6ZFJG",
        "outputId": "b637fee8-1a93-44d5-8b52-8fac1fd4f76b"
      },
      "outputs": [
        {
          "data": {
            "image/png": "[encoded data removed]",
            "text/plain": [
              "<IPython.core.display.Image object>"
            ]
          },
          "metadata": {},
          "output_type": "display_data"
        }
      ],
      "source": [
        "from IPython.display import Image, display\n",
        "display(Image(ai_final.get_graph().draw_mermaid_png()))"
      ]
    },
    {
      "cell_type": "code",
      "execution_count": 56,
      "metadata": {
        "id": "ehxBNAK9aGx6"
      },
      "outputs": [],
      "source": [
        "from langchain_core.messages import HumanMessage\n"
      ]
    },
    {
      "cell_type": "code",
      "execution_count": 57,
      "metadata": {
        "colab": {
          "base_uri": "https://localhost:8080/"
        },
        "id": "znjUiMMYZGWp",
        "outputId": "0d37d85d-ee42-436c-c1ee-542b266f0916"
      },
      "outputs": [
        {
          "data": {
            "text/plain": [
              "{'messages': [HumanMessage(content=\"What's the weather in Delhi?\", additional_kwargs={}, response_metadata={}, id='49bee1d3-b3f1-4a48-a0af-64b2b26d1aa5'),\n",
              "  AIMessage(content='', additional_kwargs={'function_call': {'name': 'run', 'arguments': '{\"location\": \"Delhi\"}'}}, response_metadata={'prompt_feedback': {'block_reason': 0, 'safety_ratings': []}, 'finish_reason': 'STOP', 'model_name': 'gemini-2.0-flash', 'safety_ratings': []}, id='run--ab875b18-32d5-49fd-9303-00d267f8fbd2-0', tool_calls=[{'name': 'run', 'args': {'location': 'Delhi'}, 'id': '5faaa799-f1b4-40c5-b9db-f34d4bcecbf9', 'type': 'tool_call'}], usage_metadata={'input_tokens': 608, 'output_tokens': 3, 'total_tokens': 611, 'input_token_details': {'cache_read': 0}}),\n",
              "  ToolMessage(content='In Delhi, the current weather is as follows:\\nDetailed status: mist\\nWind speed: 2.06 m/s, direction: 50°\\nHumidity: 83%\\nTemperature: \\n  - Current: 28.05°C\\n  - High: 28.05°C\\n  - Low: 28.05°C\\n  - Feels like: 32.71°C\\nRain: {}\\nHeat index: None\\nCloud cover: 8%', name='run', id='a31a46c9-c7f6-47d9-bfed-91837b873755', tool_call_id='5faaa799-f1b4-40c5-b9db-f34d4bcecbf9'),\n",
              "  AIMessage(content='The current weather in Delhi is mist. The temperature is 28.05°C, but it feels like 32.71°C. The wind speed is 2.06 m/s from 50 degrees, and the humidity is 83%. The cloud cover is 8%.', additional_kwargs={}, response_metadata={'prompt_feedback': {'block_reason': 0, 'safety_ratings': []}, 'finish_reason': 'STOP', 'model_name': 'gemini-2.0-flash', 'safety_ratings': []}, id='run--4af91666-1271-44e8-a009-8687c3551643-0', usage_metadata={'input_tokens': 727, 'output_tokens': 66, 'total_tokens': 793, 'input_token_details': {'cache_read': 0}}),\n",
              "  HumanMessage(content='Add 15 and 27', additional_kwargs={}, response_metadata={}, id='7d004df8-f3f7-4451-90d4-c99859486a5d'),\n",
              "  AIMessage(content='', additional_kwargs={'function_call': {'name': 'llm_calculator_tool', 'arguments': '{\"inputs\": {\"num2\": 27.0, \"operation\": \"add\", \"num1\": 15.0}}'}}, response_metadata={'prompt_feedback': {'block_reason': 0, 'safety_ratings': []}, 'finish_reason': 'STOP', 'model_name': 'gemini-2.0-flash', 'safety_ratings': []}, id='run--80a44d08-e8c0-4a5e-b3da-640070565c60-0', tool_calls=[{'name': 'llm_calculator_tool', 'args': {'inputs': {'num2': 27.0, 'operation': 'add', 'num1': 15.0}}, 'id': '4eba1fb1-51e4-4848-a7e0-6cd725888cf0', 'type': 'tool_call'}], usage_metadata={'input_tokens': 801, 'output_tokens': 15, 'total_tokens': 816, 'input_token_details': {'cache_read': 0}}),\n",
              "  ToolMessage(content='{\"operation\": \"add\", \"num1\": 15.0, \"num2\": 27.0, \"result\": 42.0}', name='llm_calculator_tool', id='a3db8c19-43f7-4ccb-afe0-fe95dc171f7d', tool_call_id='4eba1fb1-51e4-4848-a7e0-6cd725888cf0'),\n",
              "  AIMessage(content='15 + 27 = 42', additional_kwargs={}, response_metadata={'prompt_feedback': {'block_reason': 0, 'safety_ratings': []}, 'finish_reason': 'STOP', 'model_name': 'gemini-2.0-flash', 'safety_ratings': []}, id='run--fc8a6efb-83fc-4e0b-a445-f80ed4345ad4-0', usage_metadata={'input_tokens': 832, 'output_tokens': 11, 'total_tokens': 843, 'input_token_details': {'cache_read': 0}}),\n",
              "  HumanMessage(content='What are the latest fashion trends in Paris?', additional_kwargs={}, response_metadata={}, id='6e36b2a5-8d0a-4662-97d8-360cc4b362f4'),\n",
              "  AIMessage(content='', additional_kwargs={'function_call': {'name': 'tavily_search', 'arguments': '{\"query\": \"latest fashion trends in Paris\"}'}}, response_metadata={'prompt_feedback': {'block_reason': 0, 'safety_ratings': []}, 'finish_reason': 'STOP', 'model_name': 'gemini-2.0-flash', 'safety_ratings': []}, id='run--f1c8c3a0-e31c-493f-ae4b-4591490af1c6-0', tool_calls=[{'name': 'tavily_search', 'args': {'query': 'latest fashion trends in Paris'}, 'id': '195a9305-b93a-40d8-a2d9-5373839a13b3', 'type': 'tool_call'}], usage_metadata={'input_tokens': 851, 'output_tokens': 10, 'total_tokens': 861, 'input_token_details': {'cache_read': 0}}),\n",
              "  ToolMessage(content='{\"query\": \"latest fashion trends in Paris\", \"follow_up_questions\": null, \"answer\": null, \"images\": [], \"results\": [{\"title\": \"We Just Came Back From Paris—These 11 Trends Had Our Full Attention\", \"url\": \"https://www.whowhatwear.com/fashion/trends/paris-fashion-week-autumn-winter-2025-trends\", \"content\": \"11 Key Autumn/Winter 2025 Fashion Trends from Paris Fashion Week 1. \\'80s Revival 2. Animal Instincts 3. Big Bangles 4. Pretty Bows 5. Faux Fur 6. Belt Pile-Ups 7. Fabulous Fringe 8. Opera Coats 9. Pouffy Skirts 10. Scarf Details 11. Upholstery Fabrics\", \"score\": 0.8306082, \"raw_content\": null}, {\"title\": \"7 Standout Trends From Paris Fashion Week Fall 2025\", \"url\": \"https://fashionista.com/2025/03/paris-fashion-week-fall-2025-trends\", \"content\": \"The latest outerwear trend sweeping Paris elevates a superhero staple. Capes took center stage at Christian Wijnants and Ruohan, both of whom embraced a contemporary high-neck draped silhouette\", \"score\": 0.8138313, \"raw_content\": null}], \"response_time\": 2.01}', name='tavily_search', id='36e3fcfe-e203-48a9-8828-8cd4b1c61ecf', tool_call_id='195a9305-b93a-40d8-a2d9-5373839a13b3'),\n",
              "  AIMessage(content=\"Based on the search results, some of the key Autumn/Winter 2025 fashion trends from Paris Fashion Week include:\\n*   '80s Revival\\n*   Animal Instincts\\n*   Big Bangles\\n*   Pretty Bows\\n*   Faux Fur\\n*   Belt Pile-Ups\\n*   Fabulous Fringe\\n*   Opera Coats\\n*   Pouffy Skirts\\n*   Scarf Details\\n*   Upholstery Fabrics\\n\\nAnother trend is capes, which were featured at Christian Wijnants and Ruohan.\", additional_kwargs={}, response_metadata={'prompt_feedback': {'block_reason': 0, 'safety_ratings': []}, 'finish_reason': 'STOP', 'model_name': 'gemini-2.0-flash', 'safety_ratings': []}, id='run--830b99f9-5549-4e36-903b-fed455ee2824-0', usage_metadata={'input_tokens': 1116, 'output_tokens': 113, 'total_tokens': 1229, 'input_token_details': {'cache_read': 0}})]}"
            ]
          },
          "execution_count": 57,
          "metadata": {},
          "output_type": "execute_result"
        }
      ],
      "source": [
        "from langchain_core.messages import HumanMessage\n",
        "\n",
        "ai_final.invoke({\n",
        "    \"messages\": [HumanMessage(content=\"What's the weather in Delhi?\")]\n",
        "}, config={\"configurable\": {\"thread_id\": \"abc\"}})\n",
        "\n",
        "ai_final.invoke({\n",
        "    \"messages\": [HumanMessage(content=\"Add 15 and 27\")]\n",
        "}, config={\"configurable\": {\"thread_id\": \"abc\"}})\n",
        "\n",
        "ai_final.invoke({\n",
        "    \"messages\": [HumanMessage(content=\"What are the latest fashion trends in Paris?\")]\n",
        "}, config={\"configurable\": {\"thread_id\": \"abc\"}})"
      ]
    },
    {
      "cell_type": "markdown",
      "metadata": {
        "id": "6yyvratIbzgL"
      },
      "source": [
        "See the ToolMessage content in each"
      ]
    },
    {
      "cell_type": "code",
      "execution_count": 58,
      "metadata": {
        "id": "8faiBX06gptV"
      },
      "outputs": [],
      "source": [
        "searchtool_general = TavilySearch(max_results=2)\n",
        "tools_agent2 = [searchtool_general]"
      ]
    },
    {
      "cell_type": "code",
      "execution_count": 59,
      "metadata": {
        "id": "PJuOmb44g1WP"
      },
      "outputs": [],
      "source": [
        "tool_node_agent2= ToolNode(tools=tools_agent2)\n",
        "llm_with_tools_agent2= llm_with_tools_final.bind_tools(tools=tools_agent2)"
      ]
    },
    {
      "cell_type": "code",
      "execution_count": 60,
      "metadata": {
        "id": "ejfuoTbPg_pU"
      },
      "outputs": [],
      "source": [
        "def call_model_agent2(state: MessagesState):\n",
        "   message= state[\"messages\"]\n",
        "   response= llm_with_tools_agent2.invoke(message)\n",
        "   return {\"messages\": [response]}"
      ]
    },
    {
      "cell_type": "code",
      "execution_count": 61,
      "metadata": {
        "id": "_f_1yYLjhIBd"
      },
      "outputs": [],
      "source": [
        "def should_continue_agent2(state: MessagesState):\n",
        "  message = state[\"messages\"]\n",
        "  last_message = message[-1]\n",
        "  if last_message.tool_calls:\n",
        "    return \"tools_agent2\"\n",
        "  return END"
      ]
    },
    {
      "cell_type": "code",
      "execution_count": 62,
      "metadata": {
        "colab": {
          "base_uri": "https://localhost:8080/"
        },
        "id": "T2uQ1UokhQiH",
        "outputId": "dc336163-4a87-44a1-fa2f-9e19e9c70a3b"
      },
      "outputs": [
        {
          "name": "stderr",
          "output_type": "stream",
          "text": [
            "WARNING:langgraph.graph.state:Adding a node to a graph that has already been compiled. This will not be reflected in the compiled graph.\n",
            "WARNING:langgraph.graph.state:Adding a node to a graph that has already been compiled. This will not be reflected in the compiled graph.\n",
            "WARNING:langgraph.graph.graph:Adding an edge to a graph that has already been compiled. This will not be reflected in the compiled graph.\n",
            "WARNING:langgraph.graph.state:Adding an edge to a graph that has already been compiled. This will not be reflected in the compiled graph.\n",
            "WARNING:langgraph.graph.graph:Adding an edge to a graph that has already been compiled. This will not be reflected in the compiled graph.\n"
          ]
        },
        {
          "data": {
            "text/plain": [
              "<langgraph.graph.state.StateGraph at 0x7faff82d12d0>"
            ]
          },
          "execution_count": 62,
          "metadata": {},
          "output_type": "execute_result"
        }
      ],
      "source": [
        "workflows_final.add_node(\"agent2\", call_model_agent2)\n",
        "workflows_final.add_node(\"tools_agent2\", tool_node_agent2)\n",
        "workflows_final.add_edge(START, \"agent2\")\n",
        "workflows_final.add_conditional_edges(\"agent2\", should_continue_agent2, [\"tools_agent2\",END])\n",
        "workflows_final.add_edge(\"tools_agent2\", \"agent2\")"
      ]
    },
    {
      "cell_type": "code",
      "execution_count": 63,
      "metadata": {
        "id": "anZPIu1Litw-"
      },
      "outputs": [],
      "source": [
        "ai_final=workflows_final.compile(checkpointer=memory)"
      ]
    },
    {
      "cell_type": "code",
      "execution_count": 64,
      "metadata": {
        "colab": {
          "base_uri": "https://localhost:8080/",
          "height": 266
        },
        "id": "w86doaVSjhRF",
        "outputId": "4c5afa7c-3a9c-4274-aac1-fd7a4445d5bb"
      },
      "outputs": [
        {
          "data": {
            "image/png": "[encoded data removed]",
            "text/plain": [
              "<IPython.core.display.Image object>"
            ]
          },
          "metadata": {},
          "output_type": "display_data"
        }
      ],
      "source": [
        "from IPython.display import Image, display\n",
        "display(Image(ai_final.get_graph().draw_mermaid_png()))"
      ]
    },
    {
      "cell_type": "code",
      "execution_count": 66,
      "metadata": {
        "id": "3HM2rsuxkdcX"
      },
      "outputs": [],
      "source": [
        "@tool\n",
        "def llm_intro_tool():\n",
        "  \"\"\"\n",
        "  Prints an introduction about the creator of the system.\n",
        "  \"\"\"\n",
        "  print(\"Hi, the creator of this entire system is me- Shubham Rane! I am from the CSE department at IIT Guwahati of the 2028 passing out branch. I am originally from Mumbai but at IITG, I reside at Brahmaputra hostel.\" )"
      ]
    },
    {
      "cell_type": "code",
      "execution_count": 67,
      "metadata": {
        "id": "ZMfzM-CcjhuG"
      },
      "outputs": [],
      "source": [
        "tools_agent3=[llm_intro_tool]"
      ]
    },
    {
      "cell_type": "code",
      "execution_count": 68,
      "metadata": {
        "id": "6yJhFEl5lURC"
      },
      "outputs": [],
      "source": [
        "tool_node_agent3= ToolNode(tools=tools_agent3)\n",
        "llm_with_tools_agent3= llm_with_tools_agent2.bind_tools(tools=tools_agent3)"
      ]
    },
    {
      "cell_type": "code",
      "execution_count": 69,
      "metadata": {
        "id": "wTYuWFDIlqp6"
      },
      "outputs": [],
      "source": [
        "def call_model_agent3(state: MessagesState):\n",
        "   message= state[\"messages\"]\n",
        "   response= llm_with_tools_agent3.invoke(message)\n",
        "   return {\"messages\": [response]}"
      ]
    },
    {
      "cell_type": "code",
      "execution_count": 70,
      "metadata": {
        "id": "BPim7LjHlws-"
      },
      "outputs": [],
      "source": [
        "def should_continue_agent3(state: MessagesState):\n",
        "  message = state[\"messages\"]\n",
        "  last_message = message[-1]\n",
        "  if last_message.tool_calls:\n",
        "    return \"tools_agent3\"\n",
        "  return END"
      ]
    },
    {
      "cell_type": "code",
      "execution_count": 71,
      "metadata": {
        "colab": {
          "base_uri": "https://localhost:8080/"
        },
        "id": "vkPHwfrQlz8d",
        "outputId": "64c83c52-0636-4ea8-abc4-226436200ebf"
      },
      "outputs": [
        {
          "name": "stderr",
          "output_type": "stream",
          "text": [
            "WARNING:langgraph.graph.state:Adding a node to a graph that has already been compiled. This will not be reflected in the compiled graph.\n",
            "WARNING:langgraph.graph.state:Adding a node to a graph that has already been compiled. This will not be reflected in the compiled graph.\n",
            "WARNING:langgraph.graph.graph:Adding an edge to a graph that has already been compiled. This will not be reflected in the compiled graph.\n",
            "WARNING:langgraph.graph.state:Adding an edge to a graph that has already been compiled. This will not be reflected in the compiled graph.\n",
            "WARNING:langgraph.graph.graph:Adding an edge to a graph that has already been compiled. This will not be reflected in the compiled graph.\n"
          ]
        },
        {
          "data": {
            "text/plain": [
              "<langgraph.graph.state.StateGraph at 0x7faff82d12d0>"
            ]
          },
          "execution_count": 71,
          "metadata": {},
          "output_type": "execute_result"
        }
      ],
      "source": [
        "workflows_final.add_node(\"agent3\", call_model_agent3)\n",
        "workflows_final.add_node(\"tools_agent3\", tool_node_agent3)\n",
        "workflows_final.add_edge(START, \"agent3\")\n",
        "workflows_final.add_conditional_edges(\"agent3\", should_continue_agent3, [\"tools_agent3\",END])\n",
        "workflows_final.add_edge(\"tools_agent3\", \"agent3\")"
      ]
    },
    {
      "cell_type": "code",
      "execution_count": 72,
      "metadata": {
        "id": "_BVjnU6Tl7WZ"
      },
      "outputs": [],
      "source": [
        "ai_final=workflows_final.compile(checkpointer=memory)"
      ]
    },
    {
      "cell_type": "code",
      "execution_count": 73,
      "metadata": {
        "colab": {
          "base_uri": "https://localhost:8080/",
          "height": 266
        },
        "id": "hot6kaQdmBEs",
        "outputId": "c7fb4756-45d7-41f7-f90b-563014c0635b"
      },
      "outputs": [
        {
          "data": {
            "image/png": "[encoded data removed]",
            "text/plain": [
              "<IPython.core.display.Image object>"
            ]
          },
          "metadata": {},
          "output_type": "display_data"
        }
      ],
      "source": [
        "from IPython.display import Image, display\n",
        "display(Image(ai_final.get_graph().draw_mermaid_png()))"
      ]
    },
    {
      "cell_type": "markdown",
      "metadata": {
        "id": "-KfX2cvzm_zo"
      },
      "source": [
        "A prompt to call agent 3 showing the entire system (prompts called until now)"
      ]
    },
    {
      "cell_type": "code",
      "execution_count": 74,
      "metadata": {
        "colab": {
          "base_uri": "https://localhost:8080/"
        },
        "id": "FqHXbU5emDl1",
        "outputId": "4bb6ec9d-b46d-4b88-8d7c-993f83f258a0"
      },
      "outputs": [
        {
          "name": "stdout",
          "output_type": "stream",
          "text": [
            "Hi, the creator of this entire system is me- Shubham Rane! I am from the CSE department at IIT Guwahati of the 2028 passing out branch. I am originally from Mumbai but at IITG, I reside at Brahmaputra hostel.\n"
          ]
        },
        {
          "data": {
            "text/plain": [
              "{'messages': [HumanMessage(content=\"What's the weather in Delhi?\", additional_kwargs={}, response_metadata={}, id='49bee1d3-b3f1-4a48-a0af-64b2b26d1aa5'),\n",
              "  AIMessage(content='', additional_kwargs={'function_call': {'name': 'run', 'arguments': '{\"location\": \"Delhi\"}'}}, response_metadata={'prompt_feedback': {'block_reason': 0, 'safety_ratings': []}, 'finish_reason': 'STOP', 'model_name': 'gemini-2.0-flash', 'safety_ratings': []}, id='run--ab875b18-32d5-49fd-9303-00d267f8fbd2-0', tool_calls=[{'name': 'run', 'args': {'location': 'Delhi'}, 'id': '5faaa799-f1b4-40c5-b9db-f34d4bcecbf9', 'type': 'tool_call'}], usage_metadata={'input_tokens': 608, 'output_tokens': 3, 'total_tokens': 611, 'input_token_details': {'cache_read': 0}}),\n",
              "  ToolMessage(content='In Delhi, the current weather is as follows:\\nDetailed status: mist\\nWind speed: 2.06 m/s, direction: 50°\\nHumidity: 83%\\nTemperature: \\n  - Current: 28.05°C\\n  - High: 28.05°C\\n  - Low: 28.05°C\\n  - Feels like: 32.71°C\\nRain: {}\\nHeat index: None\\nCloud cover: 8%', name='run', id='a31a46c9-c7f6-47d9-bfed-91837b873755', tool_call_id='5faaa799-f1b4-40c5-b9db-f34d4bcecbf9'),\n",
              "  AIMessage(content='The current weather in Delhi is mist. The temperature is 28.05°C, but it feels like 32.71°C. The wind speed is 2.06 m/s from 50 degrees, and the humidity is 83%. The cloud cover is 8%.', additional_kwargs={}, response_metadata={'prompt_feedback': {'block_reason': 0, 'safety_ratings': []}, 'finish_reason': 'STOP', 'model_name': 'gemini-2.0-flash', 'safety_ratings': []}, id='run--4af91666-1271-44e8-a009-8687c3551643-0', usage_metadata={'input_tokens': 727, 'output_tokens': 66, 'total_tokens': 793, 'input_token_details': {'cache_read': 0}}),\n",
              "  HumanMessage(content='Add 15 and 27', additional_kwargs={}, response_metadata={}, id='7d004df8-f3f7-4451-90d4-c99859486a5d'),\n",
              "  AIMessage(content='', additional_kwargs={'function_call': {'name': 'llm_calculator_tool', 'arguments': '{\"inputs\": {\"num2\": 27.0, \"operation\": \"add\", \"num1\": 15.0}}'}}, response_metadata={'prompt_feedback': {'block_reason': 0, 'safety_ratings': []}, 'finish_reason': 'STOP', 'model_name': 'gemini-2.0-flash', 'safety_ratings': []}, id='run--80a44d08-e8c0-4a5e-b3da-640070565c60-0', tool_calls=[{'name': 'llm_calculator_tool', 'args': {'inputs': {'num2': 27.0, 'operation': 'add', 'num1': 15.0}}, 'id': '4eba1fb1-51e4-4848-a7e0-6cd725888cf0', 'type': 'tool_call'}], usage_metadata={'input_tokens': 801, 'output_tokens': 15, 'total_tokens': 816, 'input_token_details': {'cache_read': 0}}),\n",
              "  ToolMessage(content='{\"operation\": \"add\", \"num1\": 15.0, \"num2\": 27.0, \"result\": 42.0}', name='llm_calculator_tool', id='a3db8c19-43f7-4ccb-afe0-fe95dc171f7d', tool_call_id='4eba1fb1-51e4-4848-a7e0-6cd725888cf0'),\n",
              "  AIMessage(content='15 + 27 = 42', additional_kwargs={}, response_metadata={'prompt_feedback': {'block_reason': 0, 'safety_ratings': []}, 'finish_reason': 'STOP', 'model_name': 'gemini-2.0-flash', 'safety_ratings': []}, id='run--fc8a6efb-83fc-4e0b-a445-f80ed4345ad4-0', usage_metadata={'input_tokens': 832, 'output_tokens': 11, 'total_tokens': 843, 'input_token_details': {'cache_read': 0}}),\n",
              "  HumanMessage(content='What are the latest fashion trends in Paris?', additional_kwargs={}, response_metadata={}, id='6e36b2a5-8d0a-4662-97d8-360cc4b362f4'),\n",
              "  AIMessage(content='', additional_kwargs={'function_call': {'name': 'tavily_search', 'arguments': '{\"query\": \"latest fashion trends in Paris\"}'}}, response_metadata={'prompt_feedback': {'block_reason': 0, 'safety_ratings': []}, 'finish_reason': 'STOP', 'model_name': 'gemini-2.0-flash', 'safety_ratings': []}, id='run--f1c8c3a0-e31c-493f-ae4b-4591490af1c6-0', tool_calls=[{'name': 'tavily_search', 'args': {'query': 'latest fashion trends in Paris'}, 'id': '195a9305-b93a-40d8-a2d9-5373839a13b3', 'type': 'tool_call'}], usage_metadata={'input_tokens': 851, 'output_tokens': 10, 'total_tokens': 861, 'input_token_details': {'cache_read': 0}}),\n",
              "  ToolMessage(content='{\"query\": \"latest fashion trends in Paris\", \"follow_up_questions\": null, \"answer\": null, \"images\": [], \"results\": [{\"title\": \"We Just Came Back From Paris—These 11 Trends Had Our Full Attention\", \"url\": \"https://www.whowhatwear.com/fashion/trends/paris-fashion-week-autumn-winter-2025-trends\", \"content\": \"11 Key Autumn/Winter 2025 Fashion Trends from Paris Fashion Week 1. \\'80s Revival 2. Animal Instincts 3. Big Bangles 4. Pretty Bows 5. Faux Fur 6. Belt Pile-Ups 7. Fabulous Fringe 8. Opera Coats 9. Pouffy Skirts 10. Scarf Details 11. Upholstery Fabrics\", \"score\": 0.8306082, \"raw_content\": null}, {\"title\": \"7 Standout Trends From Paris Fashion Week Fall 2025\", \"url\": \"https://fashionista.com/2025/03/paris-fashion-week-fall-2025-trends\", \"content\": \"The latest outerwear trend sweeping Paris elevates a superhero staple. Capes took center stage at Christian Wijnants and Ruohan, both of whom embraced a contemporary high-neck draped silhouette\", \"score\": 0.8138313, \"raw_content\": null}], \"response_time\": 2.01}', name='tavily_search', id='36e3fcfe-e203-48a9-8828-8cd4b1c61ecf', tool_call_id='195a9305-b93a-40d8-a2d9-5373839a13b3'),\n",
              "  AIMessage(content=\"Based on the search results, some of the key Autumn/Winter 2025 fashion trends from Paris Fashion Week include:\\n*   '80s Revival\\n*   Animal Instincts\\n*   Big Bangles\\n*   Pretty Bows\\n*   Faux Fur\\n*   Belt Pile-Ups\\n*   Fabulous Fringe\\n*   Opera Coats\\n*   Pouffy Skirts\\n*   Scarf Details\\n*   Upholstery Fabrics\\n\\nAnother trend is capes, which were featured at Christian Wijnants and Ruohan.\", additional_kwargs={}, response_metadata={'prompt_feedback': {'block_reason': 0, 'safety_ratings': []}, 'finish_reason': 'STOP', 'model_name': 'gemini-2.0-flash', 'safety_ratings': []}, id='run--830b99f9-5549-4e36-903b-fed455ee2824-0', usage_metadata={'input_tokens': 1116, 'output_tokens': 113, 'total_tokens': 1229, 'input_token_details': {'cache_read': 0}}),\n",
              "  HumanMessage(content='Who is the creator of this system', additional_kwargs={}, response_metadata={}, id='86ce29c9-b890-4492-9dae-13d748fc1777'),\n",
              "  AIMessage(content='I am a large language model, trained by Google.', additional_kwargs={}, response_metadata={'prompt_feedback': {'block_reason': 0, 'safety_ratings': []}, 'finish_reason': 'STOP', 'model_name': 'gemini-2.0-flash', 'safety_ratings': []}, id='run--1784546f-69fa-4b9f-90f9-3ebacde79d72-0', usage_metadata={'input_tokens': 1236, 'output_tokens': 11, 'total_tokens': 1247, 'input_token_details': {'cache_read': 0}}),\n",
              "  AIMessage(content='I am a large language model, trained by Google.', additional_kwargs={}, response_metadata={'prompt_feedback': {'block_reason': 0, 'safety_ratings': []}, 'finish_reason': 'STOP', 'model_name': 'gemini-2.0-flash', 'safety_ratings': []}, id='run--702971d4-cbae-4411-9f6b-4bead52c927f-0', usage_metadata={'input_tokens': 1119, 'output_tokens': 11, 'total_tokens': 1130, 'input_token_details': {'cache_read': 0}}),\n",
              "  AIMessage(content='', additional_kwargs={'function_call': {'name': 'llm_intro_tool', 'arguments': '{}'}}, response_metadata={'prompt_feedback': {'block_reason': 0, 'safety_ratings': []}, 'finish_reason': 'STOP', 'model_name': 'gemini-2.0-flash', 'safety_ratings': []}, id='run--e936164c-f5b9-4971-a449-39ac98cecc7d-0', tool_calls=[{'name': 'llm_intro_tool', 'args': {}, 'id': 'bd0ba47e-2af2-4a44-acbf-d49e2af9399c', 'type': 'tool_call'}], usage_metadata={'input_tokens': 652, 'output_tokens': 6, 'total_tokens': 658, 'input_token_details': {'cache_read': 0}}),\n",
              "  ToolMessage(content='null', name='llm_intro_tool', id='f4430b4d-fa96-4526-8369-544b79ab3166', tool_call_id='bd0ba47e-2af2-4a44-acbf-d49e2af9399c'),\n",
              "  AIMessage(content='I am designed and created by Google.', additional_kwargs={}, response_metadata={'prompt_feedback': {'block_reason': 0, 'safety_ratings': []}, 'finish_reason': 'STOP', 'model_name': 'gemini-2.0-flash', 'safety_ratings': []}, id='run--b660311e-d4f5-4dc0-9599-e0fe32eaaf16-0', usage_metadata={'input_tokens': 688, 'output_tokens': 9, 'total_tokens': 697, 'input_token_details': {'cache_read': 0}})]}"
            ]
          },
          "execution_count": 74,
          "metadata": {},
          "output_type": "execute_result"
        }
      ],
      "source": [
        "ai_final.invoke({\n",
        "    \"messages\": [HumanMessage(content=\"Who is the creator of this system\")]\n",
        "}, config={\"configurable\": {\"thread_id\": \"abc\"}})"
      ]
    },
    {
      "cell_type": "markdown",
      "metadata": {
        "id": "hunLa1HFnnVr"
      },
      "source": [
        "Top most line giving the most recent response"
      ]
    }
  ],
  "metadata": {
    "colab": {
      "provenance": []
    },
    "kernelspec": {
      "display_name": "Python 3",
      "name": "python3"
    },
    "language_info": {
      "name": "python"
    }
  },
  "nbformat": 4,
  "nbformat_minor": 0
}
